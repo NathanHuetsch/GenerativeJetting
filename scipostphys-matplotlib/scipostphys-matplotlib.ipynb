{
 "cells": [
  {
   "cell_type": "markdown",
   "metadata": {},
   "source": [
    "# Matplotlib: Visualization with Python – and the SciPost Physics font "
   ]
  },
  {
   "cell_type": "markdown",
   "metadata": {},
   "source": [
    "### Preliminaries"
   ]
  },
  {
   "cell_type": "code",
   "execution_count": 2,
   "metadata": {},
   "outputs": [],
   "source": [
    "# standard Python imports\n",
    "import os\n",
    "import sys\n",
    "import time\n",
    "import random\n",
    "import numpy as np\n",
    "import pandas as pd"
   ]
  },
  {
   "cell_type": "code",
   "execution_count": 3,
   "metadata": {},
   "outputs": [],
   "source": [
    "import warnings\n",
    "warnings.filterwarnings('ignore')"
   ]
  },
  {
   "cell_type": "code",
   "execution_count": 4,
   "metadata": {},
   "outputs": [],
   "source": [
    "import colorsys\n",
    "import matplotlib as mpl\n",
    "import matplotlib.colors as mplcolors\n",
    "from matplotlib import pyplot as plt\n",
    "from matplotlib.font_manager import FontProperties\n",
    "import matplotlib.font_manager as font_manager"
   ]
  },
  {
   "cell_type": "code",
   "execution_count": 5,
   "metadata": {},
   "outputs": [
    {
     "name": "stdout",
     "output_type": "stream",
     "text": [
      "C:\\Users\\Lorenz Vogel\\OneDrive\\scipostphys-matplotlib\\bitstream-charter-ttf\\Charter\\Charter-Regular.ttf\n"
     ]
    }
   ],
   "source": [
    "# add every font at the specified location\n",
    "font_dir = ['bitstream-charter-ttf/Charter/']\n",
    "for font in font_manager.findSystemFonts(font_dir):\n",
    "    font_manager.fontManager.addfont(font)\n",
    "    \n",
    "mpl.font_manager.findSystemFonts(fontpaths=None, fontext='ttf')\n",
    "print(font_manager.findfont('Charter'))"
   ]
  },
  {
   "cell_type": "code",
   "execution_count": 6,
   "metadata": {},
   "outputs": [],
   "source": [
    "# globally change the styling of the plots\n",
    "# specify the custom font to use\n",
    "plt.rcParams['font.family'] = 'serif'\n",
    "plt.rcParams['font.serif'] = 'Charter'\n",
    "\n",
    "#plt.rcParams['mathtext.default'] = 'rm'\n",
    "plt.rcParams['text.usetex'] = True\n",
    "plt.rcParams['text.latex.preamble'] = r'\\usepackage[bitstream-charter]{mathdesign}'\n",
    "\n",
    "labelfont = FontProperties()\n",
    "labelfont.set_size(18)\n",
    "labelfontsize = 18\n",
    "\n",
    "axislabelfont = FontProperties()\n",
    "axislabelfont.set_size(20)\n",
    "axislabelfontsize = 20\n",
    "\n",
    "ticklabelfont = FontProperties()\n",
    "ticklabelfont.set_size(16)\n",
    "ticklabelfontsize = 16\n",
    "\n",
    "#cmap_set1 = mpl.cm.get_cmap('Set1')\n",
    "#cmap = mpl.cm.get_cmap('gist_heat_r')"
   ]
  },
  {
   "cell_type": "markdown",
   "metadata": {},
   "source": [
    "### Example"
   ]
  },
  {
   "cell_type": "code",
   "execution_count": 10,
   "metadata": {},
   "outputs": [
    {
     "data": {
      "image/png": "[encoded data removed]",
      "text/plain": [
       "<Figure size 504x360 with 1 Axes>"
      ]
     },
     "metadata": {
      "needs_background": "light"
     },
     "output_type": "display_data"
    }
   ],
   "source": [
    "fig, axs = plt.subplots(1, 1, figsize=(7.0, 5.0))\n",
    "\n",
    "axs.set_xlabel('$x$-axis label', fontproperties=axislabelfont)\n",
    "axs.set_ylabel('$y$-axis label', fontproperties=axislabelfont)\n",
    "\n",
    "x = np.arange(0, 100, 10)\n",
    "plt.plot(x, x, label='data')\n",
    "\n",
    "x_ticks = np.arange(0, 150, 20)\n",
    "y_ticks = np.arange(0, 20, 5)\n",
    "\n",
    "xticks = axs.get_xticks()\n",
    "yticks = axs.get_yticks()\n",
    "\n",
    "axs.set_xticklabels(xticks, fontsize=ticklabelfontsize)\n",
    "axs.set_yticklabels(yticks, fontsize=ticklabelfontsize)\n",
    "\n",
    "legend = axs.legend(loc='upper left', prop=labelfont)\n",
    "legend.set_title(title='legend title', prop=labelfont)\n",
    "axs.set_axisbelow(True)\n",
    "axs.grid(which='both', alpha=0.5)\n",
    "fig.tight_layout()\n",
    "fig.savefig('example-plot.pdf', bbox_inches='tight')\n",
    "plt.show()"
   ]
  },
  {
   "cell_type": "code",
   "execution_count": null,
   "metadata": {},
   "outputs": [],
   "source": []
  }
 ],
 "metadata": {
  "kernelspec": {
   "display_name": "Python 3",
   "language": "python",
   "name": "python3"
  },
  "language_info": {
   "codemirror_mode": {
    "name": "ipython",
    "version": 3
   },
   "file_extension": ".py",
   "mimetype": "text/x-python",
   "name": "python",
   "nbconvert_exporter": "python",
   "pygments_lexer": "ipython3",
   "version": "3.8.5"
  }
 },
 "nbformat": 4,
 "nbformat_minor": 4
}

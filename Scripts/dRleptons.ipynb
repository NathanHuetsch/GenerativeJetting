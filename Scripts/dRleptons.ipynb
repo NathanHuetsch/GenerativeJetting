{
 "cells": [
  {
   "cell_type": "code",
   "execution_count": 7,
   "id": "78cafbca",
   "metadata": {},
   "outputs": [],
   "source": [
    "import numpy as np\n",
    "import matplotlib.pyplot as plt\n",
    "import os, sys\n",
    "os.chdir(\"..\")\n",
    "import Source.Util.preprocessing as prep\n",
    "from Source.Util.plots import plot_obs, delta_r, plot_deta_dphi"
   ]
  },
  {
   "cell_type": "code",
   "execution_count": 2,
   "id": "b7ea3355",
   "metadata": {},
   "outputs": [],
   "source": [
    "obs_names = np.array([\"p_{T,l1}\", \"\\phi_{l1}\", \"\\eta_{l1}\", \"\\mu_{l1}\",\n",
    "                    \"p_{T,l2}\", \"\\phi_{l2}\", \"\\eta_{l2}\", \"\\mu_{l2}\",\n",
    "                  \"p_{T,j1}\", \"\\phi_{j1}\", \"\\eta_{j1}\", \"\\mu_{j1}\",\n",
    "                  \"p_{T,j2}\", \"\\phi_{j2}\", \"\\eta_{j2}\", \"\\mu_{j2}\"])"
   ]
  },
  {
   "cell_type": "markdown",
   "id": "ebcae457",
   "metadata": {},
   "source": [
    "# Load data"
   ]
  },
  {
   "cell_type": "code",
   "execution_count": 4,
   "id": "1dc4547f",
   "metadata": {},
   "outputs": [],
   "source": [
    "data_raw = np.load(\"../data/Z_2.npy\")\n",
    "params={\"conditional\": False, \"preprocess\": 2, \"channels\": [0,2,4,5,6,8,9,10,11,12,13,14,15]}"
   ]
  },
  {
   "cell_type": "code",
   "execution_count": 5,
   "id": "af450eb1",
   "metadata": {},
   "outputs": [],
   "source": [
    "data_raw = prep.preformat(data_raw, params)\n",
    "data, data_mean, data_std, data_u, data_s, bin_edges, bin_means = prep.preprocess(data_raw, params=params)"
   ]
  },
  {
   "cell_type": "markdown",
   "id": "8a52de02",
   "metadata": {},
   "source": [
    "# Plots"
   ]
  },
  {
   "cell_type": "code",
   "execution_count": 23,
   "id": "7a7e2935",
   "metadata": {},
   "outputs": [
    {
     "name": "stdout",
     "output_type": "stream",
     "text": [
      "(1110181,)\n"
     ]
    }
   ],
   "source": [
    "#idx_phi1, idx_eta1, idx_phi2, idx_eta2 = [9,10,13,14]\n",
    "idx_phi1, idx_eta1, idx_phi2, idx_eta2 = [1,2,5,6]\n",
    "dr = delta_r(data_raw, idx_phi1=idx_phi1, idx_eta1=idx_eta1, idx_phi2=idx_phi2, idx_eta2=idx_eta2)\n",
    "print(np.shape(dr))"
   ]
  },
  {
   "cell_type": "code",
   "execution_count": 24,
   "id": "149e0792",
   "metadata": {},
   "outputs": [
    {
     "data": {
      "image/png": "[encoded data removed]",
      "text/plain": [
       "<Figure size 640x480 with 1 Axes>"
      ]
     },
     "metadata": {},
     "output_type": "display_data"
    }
   ],
   "source": [
    "plt.hist(dr, range=[0,10], bins=100)\n",
    "plt.show()"
   ]
  },
  {
   "cell_type": "code",
   "execution_count": null,
   "id": "5fc1bcb7",
   "metadata": {},
   "outputs": [],
   "source": []
  }
 ],
 "metadata": {
  "kernelspec": {
   "display_name": "Python 3 (ipykernel)",
   "language": "python",
   "name": "python3"
  },
  "language_info": {
   "codemirror_mode": {
    "name": "ipython",
    "version": 3
   },
   "file_extension": ".py",
   "mimetype": "text/x-python",
   "name": "python",
   "nbconvert_exporter": "python",
   "pygments_lexer": "ipython3",
   "version": "3.10.6"
  }
 },
 "nbformat": 4,
 "nbformat_minor": 5
}

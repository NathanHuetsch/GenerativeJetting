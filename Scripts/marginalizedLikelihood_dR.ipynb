{
 "cells": [
  {
   "cell_type": "code",
   "execution_count": 1,
   "id": "78cafbca",
   "metadata": {},
   "outputs": [
    {
     "name": "stderr",
     "output_type": "stream",
     "text": [
      "/usr/local/lib/python3.10/dist-packages/tqdm/auto.py:22: TqdmWarning: IProgress not found. Please update jupyter and ipywidgets. See https://ipywidgets.readthedocs.io/en/stable/user_install.html\n",
      "  from .autonotebook import tqdm as notebook_tqdm\n"
     ]
    }
   ],
   "source": [
    "import numpy as np\n",
    "import matplotlib.pyplot as plt\n",
    "import os, sys, time\n",
    "os.chdir(\"..\")\n",
    "from Source.Models.autoregGMM import AutoRegGMM\n",
    "import Source.Util.preprocessing as prep\n",
    "from Source.Util.util import load_params, get, get_device\n",
    "import torch\n",
    "import torch.nn.functional as F\n",
    "import torch.distributions as D\n",
    "from torch.utils.data import DataLoader\n",
    "from Source.Util.simulateToyData import ToySimulator"
   ]
  },
  {
   "cell_type": "code",
   "execution_count": 2,
   "id": "608e301d",
   "metadata": {},
   "outputs": [],
   "source": [
    "runpath = \"runs/set5_2jet_small/\""
   ]
  },
  {
   "cell_type": "markdown",
   "id": "ebcae457",
   "metadata": {},
   "source": [
    "# Load data"
   ]
  },
  {
   "cell_type": "code",
   "execution_count": 3,
   "id": "befaf997",
   "metadata": {},
   "outputs": [],
   "source": [
    "modelpath = runpath + \"models/model_run0.pt\"\n",
    "parampath = runpath + \"paramfile.yaml\"\n",
    "params = load_params(parampath)\n",
    "params[\"device\"]=get_device()"
   ]
  },
  {
   "cell_type": "code",
   "execution_count": 4,
   "id": "1dc4547f",
   "metadata": {},
   "outputs": [],
   "source": [
    "data_raw = np.load(\"../data/Z_2.npy\")\n",
    "data_raw = prep.preformat(data_raw, params)\n",
    "n_gauss = params[\"n_gauss\"]\n",
    "channels = params[\"channels\"]\n",
    "data, data_mean, data_std, data_u, data_s, bin_edges, bin_means = prep.preprocess(data_raw, params)"
   ]
  },
  {
   "cell_type": "markdown",
   "id": "7055b47e",
   "metadata": {},
   "source": [
    "# Initialize modified model class"
   ]
  },
  {
   "cell_type": "code",
   "execution_count": 5,
   "id": "8dc86e50",
   "metadata": {},
   "outputs": [
    {
     "name": "stdout",
     "output_type": "stream",
     "text": [
      "Model AutoRegGMM hyperparameters: n_head=4, n_per_head=32, n_blocks=6, intermediate_fac=4, n_gauss=30\n",
      "Bayesianization hyperparameters: bayesian=0, prior_prec=1.0, iterations=1\n"
     ]
    },
    {
     "data": {
      "text/plain": [
       "AutoRegGMM(\n",
       "  (net): attnetGMM(\n",
       "    (transformer): ModuleDict(\n",
       "      (wte): Linear(in_features=1, out_features=128, bias=True)\n",
       "      (wpe): Embedding(13, 128)\n",
       "      (drop): Dropout(p=0.1, inplace=False)\n",
       "      (h): ModuleList(\n",
       "        (0): TransformerBlock(\n",
       "          (ln_1): LayerNorm((128,), eps=1e-05, elementwise_affine=True)\n",
       "          (attn): CausalSelfAttention(\n",
       "            (c_attn): Linear(in_features=128, out_features=384, bias=True)\n",
       "            (c_proj): Linear(in_features=128, out_features=128, bias=True)\n",
       "            (attn_dropout): Dropout(p=0.1, inplace=False)\n",
       "            (resid_dropout): Dropout(p=0.1, inplace=False)\n",
       "          )\n",
       "          (ln_2): LayerNorm((128,), eps=1e-05, elementwise_affine=True)\n",
       "          (mlp): ModuleDict(\n",
       "            (c_fc): Linear(in_features=128, out_features=512, bias=True)\n",
       "            (c_proj): Linear(in_features=512, out_features=128, bias=True)\n",
       "            (act): NewGELU()\n",
       "            (dropout): Dropout(p=0.1, inplace=False)\n",
       "          )\n",
       "        )\n",
       "        (1): TransformerBlock(\n",
       "          (ln_1): LayerNorm((128,), eps=1e-05, elementwise_affine=True)\n",
       "          (attn): CausalSelfAttention(\n",
       "            (c_attn): Linear(in_features=128, out_features=384, bias=True)\n",
       "            (c_proj): Linear(in_features=128, out_features=128, bias=True)\n",
       "            (attn_dropout): Dropout(p=0.1, inplace=False)\n",
       "            (resid_dropout): Dropout(p=0.1, inplace=False)\n",
       "          )\n",
       "          (ln_2): LayerNorm((128,), eps=1e-05, elementwise_affine=True)\n",
       "          (mlp): ModuleDict(\n",
       "            (c_fc): Linear(in_features=128, out_features=512, bias=True)\n",
       "            (c_proj): Linear(in_features=512, out_features=128, bias=True)\n",
       "            (act): NewGELU()\n",
       "            (dropout): Dropout(p=0.1, inplace=False)\n",
       "          )\n",
       "        )\n",
       "        (2): TransformerBlock(\n",
       "          (ln_1): LayerNorm((128,), eps=1e-05, elementwise_affine=True)\n",
       "          (attn): CausalSelfAttention(\n",
       "            (c_attn): Linear(in_features=128, out_features=384, bias=True)\n",
       "            (c_proj): Linear(in_features=128, out_features=128, bias=True)\n",
       "            (attn_dropout): Dropout(p=0.1, inplace=False)\n",
       "            (resid_dropout): Dropout(p=0.1, inplace=False)\n",
       "          )\n",
       "          (ln_2): LayerNorm((128,), eps=1e-05, elementwise_affine=True)\n",
       "          (mlp): ModuleDict(\n",
       "            (c_fc): Linear(in_features=128, out_features=512, bias=True)\n",
       "            (c_proj): Linear(in_features=512, out_features=128, bias=True)\n",
       "            (act): NewGELU()\n",
       "            (dropout): Dropout(p=0.1, inplace=False)\n",
       "          )\n",
       "        )\n",
       "        (3): TransformerBlock(\n",
       "          (ln_1): LayerNorm((128,), eps=1e-05, elementwise_affine=True)\n",
       "          (attn): CausalSelfAttention(\n",
       "            (c_attn): Linear(in_features=128, out_features=384, bias=True)\n",
       "            (c_proj): Linear(in_features=128, out_features=128, bias=True)\n",
       "            (attn_dropout): Dropout(p=0.1, inplace=False)\n",
       "            (resid_dropout): Dropout(p=0.1, inplace=False)\n",
       "          )\n",
       "          (ln_2): LayerNorm((128,), eps=1e-05, elementwise_affine=True)\n",
       "          (mlp): ModuleDict(\n",
       "            (c_fc): Linear(in_features=128, out_features=512, bias=True)\n",
       "            (c_proj): Linear(in_features=512, out_features=128, bias=True)\n",
       "            (act): NewGELU()\n",
       "            (dropout): Dropout(p=0.1, inplace=False)\n",
       "          )\n",
       "        )\n",
       "        (4): TransformerBlock(\n",
       "          (ln_1): LayerNorm((128,), eps=1e-05, elementwise_affine=True)\n",
       "          (attn): CausalSelfAttention(\n",
       "            (c_attn): Linear(in_features=128, out_features=384, bias=True)\n",
       "            (c_proj): Linear(in_features=128, out_features=128, bias=True)\n",
       "            (attn_dropout): Dropout(p=0.1, inplace=False)\n",
       "            (resid_dropout): Dropout(p=0.1, inplace=False)\n",
       "          )\n",
       "          (ln_2): LayerNorm((128,), eps=1e-05, elementwise_affine=True)\n",
       "          (mlp): ModuleDict(\n",
       "            (c_fc): Linear(in_features=128, out_features=512, bias=True)\n",
       "            (c_proj): Linear(in_features=512, out_features=128, bias=True)\n",
       "            (act): NewGELU()\n",
       "            (dropout): Dropout(p=0.1, inplace=False)\n",
       "          )\n",
       "        )\n",
       "        (5): TransformerBlock(\n",
       "          (ln_1): LayerNorm((128,), eps=1e-05, elementwise_affine=True)\n",
       "          (attn): CausalSelfAttention(\n",
       "            (c_attn): Linear(in_features=128, out_features=384, bias=True)\n",
       "            (c_proj): Linear(in_features=128, out_features=128, bias=True)\n",
       "            (attn_dropout): Dropout(p=0.1, inplace=False)\n",
       "            (resid_dropout): Dropout(p=0.1, inplace=False)\n",
       "          )\n",
       "          (ln_2): LayerNorm((128,), eps=1e-05, elementwise_affine=True)\n",
       "          (mlp): ModuleDict(\n",
       "            (c_fc): Linear(in_features=128, out_features=512, bias=True)\n",
       "            (c_proj): Linear(in_features=512, out_features=128, bias=True)\n",
       "            (act): NewGELU()\n",
       "            (dropout): Dropout(p=0.1, inplace=False)\n",
       "          )\n",
       "        )\n",
       "      )\n",
       "      (ln_f): LayerNorm((128,), eps=1e-05, elementwise_affine=True)\n",
       "    )\n",
       "    (lm_head): Linear(in_features=128, out_features=90, bias=True)\n",
       "  )\n",
       ")"
      ]
     },
     "execution_count": 5,
     "metadata": {},
     "output_type": "execute_result"
    }
   ],
   "source": [
    "model = AutoRegGMM(params)\n",
    "state_dict = torch.load(modelpath, map_location=params[\"device\"])\n",
    "model.load_state_dict(state_dict)\n",
    "model.eval()"
   ]
  },
  {
   "cell_type": "code",
   "execution_count": 6,
   "id": "ecc57a02",
   "metadata": {},
   "outputs": [],
   "source": [
    "data_split = params[\"data_split\"]\n",
    "n_data = len(data)\n",
    "cut1 = int(n_data - data_split[0])\n",
    "model.train_loader = DataLoader(dataset=data[:cut1], batch_size=params[\"batch_size\"], shuffle=True)"
   ]
  },
  {
   "cell_type": "markdown",
   "id": "1e8e7293",
   "metadata": {},
   "source": [
    "# Generate samples"
   ]
  },
  {
   "cell_type": "code",
   "execution_count": 7,
   "id": "52bf8ee8",
   "metadata": {},
   "outputs": [
    {
     "name": "stderr",
     "output_type": "stream",
     "text": [
      "/usr/local/lib/python3.10/dist-packages/torch/distributions/distribution.py:167: UserWarning: sample_n will be deprecated. Use .sample((n,)) instead\n",
      "  warnings.warn('sample_n will be deprecated. Use .sample((n,)) instead', UserWarning)\n"
     ]
    }
   ],
   "source": [
    "n_samples = 10\n",
    "samples, xs, probs, probsindiv = model.sample_n_bonus(n_samples)\n",
    "samples = samples[:,1:]"
   ]
  },
  {
   "cell_type": "markdown",
   "id": "120aba29",
   "metadata": {},
   "source": [
    "# Test plot"
   ]
  },
  {
   "cell_type": "code",
   "execution_count": 8,
   "id": "7a37b10a",
   "metadata": {},
   "outputs": [
    {
     "data": {
      "image/png": "[encoded data removed]",
      "text/plain": [
       "<Figure size 640x480 with 1 Axes>"
      ]
     },
     "metadata": {},
     "output_type": "display_data"
    }
   ],
   "source": [
    "idim=0\n",
    "isample=0\n",
    "bins=100\n",
    "xmin=np.min(xs[idim,:])\n",
    "xmax=np.max(xs[idim,:])\n",
    "plt.hist(data[:,idim], alpha=.5, bins=bins, range=(xmin, xmax), density=True, align=\"mid\", rwidth=1.)\n",
    "plt.plot(xs[idim,:], probs[isample, idim, :], color=\"g\")\n",
    "for igauss in range(n_gauss):\n",
    "    plt.plot(xs[idim,:], probsindiv[isample,idim,igauss,:], color=\"g\", linestyle=\"-\", alpha=.2)\n",
    "_, ymax = plt.ylim()\n",
    "plt.vlines(samples[isample,idim], 0., ymax, \"r\", linewidth=1)\n",
    "plt.xlim(xmin, xmax)\n",
    "plt.ylim(0., ymax)\n",
    "plt.show()"
   ]
  },
  {
   "cell_type": "code",
   "execution_count": 9,
   "id": "00f426ca",
   "metadata": {},
   "outputs": [
    {
     "name": "stderr",
     "output_type": "stream",
     "text": [
      "/usr/local/lib/python3.10/dist-packages/torch/distributions/distribution.py:167: UserWarning: sample_n will be deprecated. Use .sample((n,)) instead\n",
      "  warnings.warn('sample_n will be deprecated. Use .sample((n,)) instead', UserWarning)\n"
     ]
    },
    {
     "name": "stdout",
     "output_type": "stream",
     "text": [
      "Sampling time estimate: 24.53 s = 0.41 min\n"
     ]
    }
   ],
   "source": [
    "n_samples = 10000\n",
    "samples = model.sample_n(n_samples)\n",
    "samples_raw = prep.undo_preprocessing(samples, data_mean, data_std, \n",
    "                                      data_u, data_s, bin_means, \n",
    "                                      bin_edges, params)"
   ]
  },
  {
   "cell_type": "markdown",
   "id": "762a996e",
   "metadata": {},
   "source": [
    "# $\\Delta R$ marginalized likelihood with grid integration"
   ]
  },
  {
   "cell_type": "code",
   "execution_count": 10,
   "id": "164b5516",
   "metadata": {},
   "outputs": [],
   "source": [
    "def marginalize(x, likelihood, dim):\n",
    "    likelihood2 = np.swapaxes(likelihood, dim, 0)\n",
    "    marg = np.trapz(likelihood2, x=x, axis=0)\n",
    "    return marg"
   ]
  },
  {
   "cell_type": "markdown",
   "id": "33e4e215",
   "metadata": {},
   "source": [
    "How to preprocess on pdf level\n",
    "\n",
    "- Standardization: gauss() and inversegauss() (derive this with transformation method?)\n",
    "- artanh: Derive with transformation method\n",
    "\n",
    "Challenge: How to preprocess $\\Delta R$?"
   ]
  },
  {
   "cell_type": "code",
   "execution_count": 15,
   "id": "c2444a14",
   "metadata": {},
   "outputs": [
    {
     "name": "stdout",
     "output_type": "stream",
     "text": [
      "Estimate: 0.80 min\n"
     ]
    }
   ],
   "source": [
    "precR = 100\n",
    "precM = 60\n",
    "batch_size = 2048\n",
    "dRmin0 = 0.\n",
    "dRmax0 = 8.\n",
    "dRmin = 0.\n",
    "dRmax = 8.\n",
    "dR0 = np.linspace(dRmin, dRmax, precR)\n",
    "phimin = -np.pi +1e-2\n",
    "phimax = np.pi -1e-2\n",
    "etamin = -5.\n",
    "etamax = 5.\n",
    "phi0 = np.linspace(phimin, phimax, precM)\n",
    "eta0 = np.linspace(etamin, etamax, precM)\n",
    "phi1, eta1, phi2 = np.meshgrid(phi0, eta0, phi0)\n",
    "x0 = torch.ones(precM**3) * 2\n",
    "x1 = (np.arctanh(phi1 / np.pi) - data_mean[0,0]) / data_std[0,0]\n",
    "x2 = (eta1 - data_mean[0,1]) / data_std[0,1]\n",
    "x3 = (np.arctanh(phi2 / np.pi) - data_mean[0,2]) / data_std[0,2]\n",
    "base = np.stack([x0.ravel(), x1.ravel(), x2.ravel(), x3.ravel()], -1)\n",
    "loader = torch.utils.data.DataLoader(dataset=base, \n",
    "                                              batch_size=batch_size, \n",
    "                                              shuffle=False)\n",
    "likelihood_tot = np.zeros((0, precR))\n",
    "for batch_id, x in enumerate(loader):\n",
    "    # build GMM\n",
    "    t0 = time.time()\n",
    "    _, _, mu, sigma, weights = model.batch_loss(x.float(), getMore=True)\n",
    "    gmm = D.MixtureSameFamily(D.Categorical(weights), D.Normal(mu, sigma))\n",
    "    \n",
    "    # undo preprocessing\n",
    "    phi1 = torch.tanh( data_std[0,0]*x[:,1] + data_mean[0,0]) *np.pi\n",
    "    eta1 = data_std[0,1]*x[:,2] + data_mean[0,1]\n",
    "    phi2 = torch.tanh( data_std[0,2]*x[:,3] + data_mean[0,2]) *np.pi\n",
    "    \n",
    "    # compute possible eta2 values\n",
    "    likelihood_tot0 = torch.zeros((x.size(0), 0))\n",
    "    for i in range(precR):\n",
    "        eta2 = eta1 - (dR0[i]**2 - (phi1-phi2)**2)**.5\n",
    "        eta2 = torch.nan_to_num(eta2, nan=-10.)\n",
    "        x4 = (eta2 - data_mean[0,3]) / data_std[0,3]\n",
    "    \n",
    "        xFull = torch.stack([x[:,1], x[:,2], x[:,3], x4], -1)\n",
    "        likelihood = torch.exp(torch.sum(gmm.log_prob(xFull), dim=-1))\n",
    "        \n",
    "        facPrep1 = np.pi/(np.pi**2- phi1**2) * np.pi/(np.pi**2- phi2**2) #coordinate transformation in preprocess=1\n",
    "        facPrep2 = 1/(data_std[0,0] * data_std[0,1] * data_std[0,2] * data_std[0,3]) #coordinate transformation in preprocess=2\n",
    "        facdR = 2 * dR0[i] / (dR0[i]**2 - (phi1 - phi2)**2)**.5\n",
    "        likelihood = likelihood * facPrep1 * facPrep2 * facdR\n",
    "        likelihood = torch.nan_to_num(likelihood, nan=0.) #set the same to zero as above\n",
    "        \n",
    "        likelihood0 = torch.zeros((x.size(0), 1))\n",
    "        likelihood0[:,0] = likelihood\n",
    "        likelihood_tot0 = np.append(likelihood_tot0, likelihood0.detach().cpu().numpy(), axis=1)\n",
    "    likelihood_tot = np.append(likelihood_tot, likelihood_tot0, axis=0)\n",
    "    \n",
    "    if batch_id == 0:\n",
    "        t1 = time.time()\n",
    "        print(f\"Estimate: {(t1-t0)*(precM**3//batch_size)/60:.2f} min\")"
   ]
  },
  {
   "cell_type": "code",
   "execution_count": 16,
   "id": "92b54290",
   "metadata": {},
   "outputs": [],
   "source": [
    "likelihoodArr = likelihood_tot.reshape(precM, precM, precM, precR)"
   ]
  },
  {
   "cell_type": "code",
   "execution_count": 17,
   "id": "c9a21f60",
   "metadata": {},
   "outputs": [
    {
     "name": "stdout",
     "output_type": "stream",
     "text": [
      "5782080\n",
      "(21600000,)\n"
     ]
    }
   ],
   "source": [
    "print(np.sum([likelihood_tot < 1e-50])) #where are the nans? something with triangles...\n",
    "print(np.shape(likelihood_tot.reshape(-1)))"
   ]
  },
  {
   "cell_type": "code",
   "execution_count": 18,
   "id": "aa9bebd8",
   "metadata": {},
   "outputs": [
    {
     "name": "stdout",
     "output_type": "stream",
     "text": [
      "Check: normalization = 0.9976637914\n"
     ]
    }
   ],
   "source": [
    "marginaldR = likelihoodArr\n",
    "marginaldR = marginalize(phi0, marginaldR, 0)\n",
    "marginaldR = marginalize(eta0, marginaldR, 0)\n",
    "marginaldR = marginalize(phi0, marginaldR, 0)\n",
    "normdR = marginalize(dR0, marginaldR, 0)\n",
    "print(f\"Check: normalization = {normdR:.10f}\")"
   ]
  },
  {
   "cell_type": "code",
   "execution_count": 19,
   "id": "5201ee0e",
   "metadata": {},
   "outputs": [
    {
     "ename": "NameError",
     "evalue": "name 'samples_raw' is not defined",
     "output_type": "error",
     "traceback": [
      "\u001b[0;31m---------------------------------------------------------------------------\u001b[0m",
      "\u001b[0;31mNameError\u001b[0m                                 Traceback (most recent call last)",
      "Cell \u001b[0;32mIn [19], line 5\u001b[0m\n\u001b[1;32m      3\u001b[0m nbins\u001b[38;5;241m=\u001b[39m\u001b[38;5;241m100\u001b[39m\n\u001b[1;32m      4\u001b[0m plt\u001b[38;5;241m.\u001b[39mhist(dR(data_raw), \u001b[38;5;28mrange\u001b[39m\u001b[38;5;241m=\u001b[39m(dRmin0, dRmax0), bins\u001b[38;5;241m=\u001b[39mnbins, alpha\u001b[38;5;241m=\u001b[39m\u001b[38;5;241m.5\u001b[39m, density\u001b[38;5;241m=\u001b[39m\u001b[38;5;28;01mTrue\u001b[39;00m, color\u001b[38;5;241m=\u001b[39m\u001b[38;5;124m\"\u001b[39m\u001b[38;5;124mr\u001b[39m\u001b[38;5;124m\"\u001b[39m, label\u001b[38;5;241m=\u001b[39m\u001b[38;5;124m\"\u001b[39m\u001b[38;5;124mtruth\u001b[39m\u001b[38;5;124m\"\u001b[39m)\n\u001b[0;32m----> 5\u001b[0m plt\u001b[38;5;241m.\u001b[39mhist(dR(\u001b[43msamples_raw\u001b[49m), \u001b[38;5;28mrange\u001b[39m\u001b[38;5;241m=\u001b[39m(dRmin0, dRmax0), bins\u001b[38;5;241m=\u001b[39mnbins, alpha\u001b[38;5;241m=\u001b[39m\u001b[38;5;241m.5\u001b[39m, density\u001b[38;5;241m=\u001b[39m\u001b[38;5;28;01mTrue\u001b[39;00m, color\u001b[38;5;241m=\u001b[39m\u001b[38;5;124m\"\u001b[39m\u001b[38;5;124mb\u001b[39m\u001b[38;5;124m\"\u001b[39m, label\u001b[38;5;241m=\u001b[39m\u001b[38;5;124m\"\u001b[39m\u001b[38;5;124mmodel\u001b[39m\u001b[38;5;124m\"\u001b[39m)\n\u001b[1;32m      6\u001b[0m plt\u001b[38;5;241m.\u001b[39mplot(dR0, marginaldR, color\u001b[38;5;241m=\u001b[39m\u001b[38;5;124m\"\u001b[39m\u001b[38;5;124mb\u001b[39m\u001b[38;5;124m\"\u001b[39m, label\u001b[38;5;241m=\u001b[39m\u001b[38;5;124m\"\u001b[39m\u001b[38;5;124mmodel likelihood\u001b[39m\u001b[38;5;124m\"\u001b[39m)\n\u001b[1;32m      7\u001b[0m ymin, ymax \u001b[38;5;241m=\u001b[39m plt\u001b[38;5;241m.\u001b[39mylim()\n",
      "\u001b[0;31mNameError\u001b[0m: name 'samples_raw' is not defined"
     ]
    },
    {
     "data": {
      "image/png": "[encoded data removed]",
      "text/plain": [
       "<Figure size 640x480 with 1 Axes>"
      ]
     },
     "metadata": {},
     "output_type": "display_data"
    }
   ],
   "source": [
    "def dR(data):\n",
    "    return ((data[:,9]-data[:,13])**2 + (data[:,10]-data[:,14])**2)**.5\n",
    "nbins=100\n",
    "plt.hist(dR(data_raw), range=(dRmin0, dRmax0), bins=nbins, alpha=.5, density=True, color=\"r\", label=\"truth\")\n",
    "plt.hist(dR(samples_raw), range=(dRmin0, dRmax0), bins=nbins, alpha=.5, density=True, color=\"b\", label=\"model\")\n",
    "plt.plot(dR0, marginaldR, color=\"b\", label=\"model likelihood\")\n",
    "ymin, ymax = plt.ylim()\n",
    "plt.vlines(.4, ymin, ymax, color=\"k\", linestyle=\"--\", alpha=.5)\n",
    "plt.xlim(dRmin, dRmax)\n",
    "plt.ylim(ymin, ymax)\n",
    "plt.legend()\n",
    "plt.savefig(\"marginaldR.pdf\", bbox_inches=\"tight\")\n",
    "plt.show()"
   ]
  },
  {
   "cell_type": "code",
   "execution_count": 14,
   "id": "0e56aab5",
   "metadata": {},
   "outputs": [
    {
     "data": {
      "image/png": "[encoded data removed]",
      "text/plain": [
       "<Figure size 640x480 with 1 Axes>"
      ]
     },
     "metadata": {},
     "output_type": "display_data"
    }
   ],
   "source": [
    "# have weird peaks - but why?\n",
    "plt.plot(dR0, likelihoodArr[24,32,53,:])\n",
    "plt.savefig(\"dR_weird.pdf\")\n",
    "plt.show()"
   ]
  },
  {
   "cell_type": "markdown",
   "id": "66aab1d5",
   "metadata": {},
   "source": [
    "# $\\Delta R$ marginalized likelihood with MC integration"
   ]
  },
  {
   "cell_type": "code",
   "execution_count": 41,
   "id": "626c82bd",
   "metadata": {},
   "outputs": [
    {
     "name": "stdout",
     "output_type": "stream",
     "text": [
      "  0/100\r"
     ]
    },
    {
     "name": "stderr",
     "output_type": "stream",
     "text": [
      "/tmp/ipykernel_3111/3302247728.py:22: RuntimeWarning: invalid value encountered in sqrt\n",
      "  eta2 = eta1 - (dRval**2 - (phi1-phi2)**2)**.5\n"
     ]
    },
    {
     "name": "stdout",
     "output_type": "stream",
     "text": [
      "Estimate: 219.68 s = 3.66 min\n",
      " 99/100\r"
     ]
    }
   ],
   "source": [
    "prec = 100\n",
    "batch_size = 1024\n",
    "dRmin = .2\n",
    "dRmax = 1.5\n",
    "dR0 = np.linspace(dRmin, dRmax, prec)\n",
    "etamin = -5.\n",
    "etamax = 5.\n",
    "phimin = -np.pi + 1.e-2\n",
    "phimax = np.pi - 1.e-2\n",
    "\n",
    "N = 20000 #100000\n",
    "Ntry = N * 10\n",
    "\n",
    "def getMarginalLikelihood(dRval, N, out=False):\n",
    "    Nact = 0\n",
    "    base = np.zeros((0, 5))\n",
    "    accRate = np.zeros(0)\n",
    "    while Nact<N:\n",
    "        phi1 = np.random.uniform(low=phimin, high=phimax, size=Ntry)\n",
    "        phi2 = np.random.uniform(low=phimin, high=phimax, size=Ntry)\n",
    "        eta1 = np.random.uniform(low=etamin, high=etamax, size=Ntry)\n",
    "        eta2 = eta1 - (dRval**2 - (phi1-phi2)**2)**.5\n",
    "        idx = np.where(np.invert(np.isnan(eta2)))\n",
    "        Nidx = np.shape(idx)[1]\n",
    "        accRate = np.append(accRate, Nidx/Ntry)\n",
    "        phi1, phi2, eta1, eta2 = phi1[idx], phi2[idx], eta1[idx], eta2[idx]\n",
    "        Nact += Nidx\n",
    "        \n",
    "        x1 = (np.arctanh(phi1 / np.pi) - data_mean[0,0]) / data_std[0,0]\n",
    "        x2 = (eta1 - data_mean[0,1]) / data_std[0,1]\n",
    "        x3 = (np.arctanh(phi2 / np.pi) - data_mean[0,2]) / data_std[0,2]\n",
    "        x4 = (eta2 - data_mean[0,3]) / data_std[0,3]\n",
    "        \n",
    "        facPrep1 = np.pi/(np.pi**2- phi1**2) * np.pi/(np.pi**2- phi2**2) #coordinate transformation in preprocess=1\n",
    "        facPrep2 = 1/(data_std[0,0] * data_std[0,1] * data_std[0,2] * data_std[0,3]) #coordinate transformation in preprocess=2\n",
    "        facdR = 2 * dRval / (dRval**2 - (phi1 - phi2)**2)**.5\n",
    "        jacFac = facPrep1 * facPrep2 * facdR\n",
    "        \n",
    "        base = np.append(base, np.stack([x1, x2, x3, x4, jacFac], -1), axis=0)\n",
    "    accRate = np.mean(accRate)\n",
    "    base = base[:N, :]\n",
    "\n",
    "    cartesianLoader = torch.utils.data.DataLoader(dataset=base, \n",
    "                                              batch_size=batch_size, \n",
    "                                              shuffle=False)\n",
    "    likelihood = np.zeros(0)\n",
    "    for batch_id, x in enumerate(cartesianLoader):\n",
    "        t0 = time.time()\n",
    "        x0 = x[:,:4].float()\n",
    "        _, likelihood0, _, _, _ = model.batch_loss(x0, getMore=True)\n",
    "        likelihood0 *= x[:,4]\n",
    "        likelihood0 = likelihood0.detach().numpy()\n",
    "        likelihood = np.append(likelihood, likelihood0)\n",
    "        if batch_id == 0 and out:\n",
    "            t1 = time.time()\n",
    "            print(f\"Estimate: {(t1-t0)*(N//batch_size):.2f} s = {(t1-t0)*(N//batch_size)/60:.2f} min\")\n",
    "    likelihood_mean = np.mean(likelihood)\n",
    "    V = (phimax-phimin)**2 * (etamax-etamin) * accRate\n",
    "    I_mean = V * likelihood_mean\n",
    "    I_variance = V /N**.5 * (1/(N-1) * np.sum((likelihood-likelihood_mean)**2))**.5\n",
    "    return I_mean, I_variance\n",
    "    \n",
    "marg, marg_err = np.zeros((2, prec))\n",
    "for i in range(prec):\n",
    "    t0 = time.time()\n",
    "    print(f\"{i:>3}/{prec}\", end=\"\\r\")\n",
    "    marg[i], marg_err[i] = getMarginalLikelihood(dR0[i], N)\n",
    "    if i==0:\n",
    "        t1 = time.time()\n",
    "        print(f\"Estimate: {(t1-t0)*prec:.2f} s = {(t1-t0)*prec/60:.2f} min\")"
   ]
  },
  {
   "cell_type": "code",
   "execution_count": 32,
   "id": "57424e11",
   "metadata": {},
   "outputs": [
    {
     "name": "stdout",
     "output_type": "stream",
     "text": [
      "  0/100\r"
     ]
    },
    {
     "name": "stderr",
     "output_type": "stream",
     "text": [
      "/tmp/ipykernel_3111/2145692193.py:29: RuntimeWarning: invalid value encountered in sqrt\n",
      "  eta2 = eta1 - (dRval**2 - (phi1-phi2)**2)**.5\n"
     ]
    },
    {
     "name": "stdout",
     "output_type": "stream",
     "text": [
      "0.20 - Achieved std=3.46e-05 after 1 runs (5120,)\n",
      "Estimate: 54.37 s = 0.91 min\n",
      "0.28 - Achieved std=1.47e-04 after 1 runs (5120,)\n",
      "0.36 - Achieved std=6.19e-03 after 1 runs (5120,)\n",
      "0.44 - Achieved std=1.80e-03 after 1 runs (5120,)\n",
      "0.52 - Achieved std=5.52e-03 after 1 runs (5120,)\n",
      "0.59 - Achieved std=3.26e-03 after 1 runs (5120,)\n",
      "0.67 - Achieved std=2.25e-03 after 1 runs (5120,)\n",
      "0.75 - Achieved std=6.97e-03 after 1 runs (5120,)\n",
      "0.83 - Achieved std=3.70e-03 after 1 runs (5120,)\n",
      "0.91 - Achieved std=2.17e-03 after 1 runs (5120,)\n",
      "0.99 - Achieved std=1.97e-03 after 1 runs (5120,)\n",
      "1.07 - Achieved std=1.90e-03 after 1 runs (5120,)\n",
      "1.15 - Achieved std=1.78e-03 after 1 runs (5120,)\n",
      "1.22 - Achieved std=7.51e-03 after 1 runs (5120,)\n",
      "1.30 - Achieved std=1.92e-03 after 1 runs (5120,)\n",
      "1.38 - Achieved std=1.58e-03 after 1 runs (5120,)\n",
      "1.46 - Achieved std=1.78e-03 after 1 runs (5120,)\n",
      "1.54 - Achieved std=1.48e-03 after 1 runs (5120,)\n",
      "1.62 - Achieved std=1.88e-03 after 1 runs (5120,)\n",
      "1.70 - Achieved std=1.63e-03 after 1 runs (5120,)\n",
      "1.78 - Achieved std=5.35e-03 after 1 runs (5120,)\n",
      "1.85 - Achieved std=2.04e-03 after 1 runs (5120,)\n",
      "1.93 - Achieved std=2.77e-03 after 1 runs (5120,)\n",
      "2.01 - Achieved std=2.06e-03 after 1 runs (5120,)\n",
      "2.09 - Achieved std=1.93e-03 after 1 runs (5120,)\n",
      "2.17 - Achieved std=4.53e-03 after 1 runs (5120,)\n",
      "2.25 - Achieved std=1.14e-02 after 1 runs (5120,)\n",
      "2.25 - Achieved std=8.04e-03 after 2 runs (10240,)\n",
      "2.33 - Achieved std=3.52e-03 after 1 runs (5120,)\n",
      "2.41 - Achieved std=2.74e-03 after 1 runs (5120,)\n",
      "2.48 - Achieved std=3.01e-03 after 1 runs (5120,)\n",
      "2.56 - Achieved std=3.67e-03 after 1 runs (5120,)\n",
      "2.64 - Achieved std=6.31e-03 after 1 runs (5120,)\n",
      "2.72 - Achieved std=5.85e-03 after 1 runs (5120,)\n",
      "2.80 - Achieved std=6.44e-03 after 1 runs (5120,)\n",
      "2.88 - Achieved std=1.90e-02 after 1 runs (5120,)\n",
      "2.88 - Achieved std=1.35e-02 after 2 runs (10240,)\n",
      "2.88 - Achieved std=1.10e-02 after 3 runs (15360,)\n",
      "2.88 - Achieved std=9.51e-03 after 4 runs (20480,)\n",
      "2.96 - Achieved std=1.89e-02 after 1 runs (5120,)\n",
      "2.96 - Achieved std=1.33e-02 after 2 runs (10240,)\n",
      "2.96 - Achieved std=1.09e-02 after 3 runs (15360,)\n",
      "2.96 - Achieved std=9.43e-03 after 4 runs (20480,)\n",
      "3.04 - Achieved std=1.73e-02 after 1 runs (5120,)\n",
      "3.04 - Achieved std=1.22e-02 after 2 runs (10240,)\n",
      "3.04 - Achieved std=9.98e-03 after 3 runs (15360,)\n",
      "3.12 - Achieved std=1.39e-02 after 1 runs (5120,)\n",
      "3.12 - Achieved std=9.86e-03 after 2 runs (10240,)\n",
      "3.19 - Achieved std=1.40e-02 after 1 runs (5120,)\n",
      "3.19 - Achieved std=9.88e-03 after 2 runs (10240,)\n",
      "3.27 - Achieved std=2.61e-02 after 1 runs (5120,)\n",
      "3.27 - Achieved std=1.85e-02 after 2 runs (10240,)\n",
      "3.27 - Achieved std=1.51e-02 after 3 runs (15360,)\n",
      "3.27 - Achieved std=1.31e-02 after 4 runs (20480,)\n",
      "3.27 - Achieved std=1.17e-02 after 5 runs (25600,)\n",
      "3.27 - Achieved std=1.07e-02 after 6 runs (30720,)\n",
      "3.27 - Achieved std=9.88e-03 after 7 runs (35840,)\n",
      "3.35 - Achieved std=3.08e-02 after 1 runs (5120,)\n",
      "3.35 - Achieved std=2.18e-02 after 2 runs (10240,)\n",
      "3.35 - Achieved std=1.78e-02 after 3 runs (15360,)\n",
      "3.35 - Achieved std=1.54e-02 after 4 runs (20480,)\n",
      "3.35 - Achieved std=1.38e-02 after 5 runs (25600,)\n",
      "3.35 - Achieved std=1.26e-02 after 6 runs (30720,)\n",
      "3.35 - Achieved std=1.17e-02 after 7 runs (35840,)\n",
      "3.35 - Achieved std=1.09e-02 after 8 runs (40960,)\n",
      "3.35 - Achieved std=1.03e-02 after 9 runs (46080,)\n",
      "3.35 - Achieved std=9.75e-03 after 10 runs (51200,)\n",
      "3.43 - Achieved std=3.23e-02 after 1 runs (5120,)\n",
      "3.43 - Achieved std=2.29e-02 after 2 runs (10240,)\n",
      "3.43 - Achieved std=1.87e-02 after 3 runs (15360,)\n",
      "3.43 - Achieved std=1.62e-02 after 4 runs (20480,)\n",
      "3.43 - Achieved std=1.45e-02 after 5 runs (25600,)\n",
      "3.43 - Achieved std=1.32e-02 after 6 runs (30720,)\n",
      "3.43 - Achieved std=1.22e-02 after 7 runs (35840,)\n",
      "3.43 - Achieved std=1.14e-02 after 8 runs (40960,)\n",
      "3.43 - Achieved std=1.08e-02 after 9 runs (46080,)\n",
      "3.43 - Achieved std=1.02e-02 after 10 runs (51200,)\n",
      "3.43 - Achieved std=9.75e-03 after 11 runs (56320,)\n",
      "3.51 - Achieved std=2.13e-02 after 1 runs (5120,)\n",
      "3.51 - Achieved std=1.50e-02 after 2 runs (10240,)\n",
      "3.51 - Achieved std=1.23e-02 after 3 runs (15360,)\n",
      "3.51 - Achieved std=1.06e-02 after 4 runs (20480,)\n",
      "3.51 - Achieved std=9.52e-03 after 5 runs (25600,)\n",
      "3.59 - Achieved std=2.91e-02 after 1 runs (5120,)\n",
      "3.59 - Achieved std=2.05e-02 after 2 runs (10240,)\n",
      "3.59 - Achieved std=1.68e-02 after 3 runs (15360,)\n",
      "3.59 - Achieved std=1.45e-02 after 4 runs (20480,)\n",
      "3.59 - Achieved std=1.30e-02 after 5 runs (25600,)\n",
      "3.59 - Achieved std=1.19e-02 after 6 runs (30720,)\n",
      "3.59 - Achieved std=1.10e-02 after 7 runs (35840,)\n",
      "3.59 - Achieved std=1.03e-02 after 8 runs (40960,)\n",
      "3.59 - Achieved std=9.69e-03 after 9 runs (46080,)\n",
      "3.67 - Achieved std=2.51e-02 after 1 runs (5120,)\n",
      "3.67 - Achieved std=1.78e-02 after 2 runs (10240,)\n",
      "3.67 - Achieved std=1.45e-02 after 3 runs (15360,)\n",
      "3.67 - Achieved std=1.26e-02 after 4 runs (20480,)\n",
      "3.67 - Achieved std=1.12e-02 after 5 runs (25600,)\n",
      "3.67 - Achieved std=1.03e-02 after 6 runs (30720,)\n",
      "3.67 - Achieved std=9.50e-03 after 7 runs (35840,)\n",
      "3.75 - Achieved std=2.51e-02 after 1 runs (5120,)\n",
      "3.75 - Achieved std=1.78e-02 after 2 runs (10240,)\n",
      "3.75 - Achieved std=1.45e-02 after 3 runs (15360,)\n",
      "3.75 - Achieved std=1.26e-02 after 4 runs (20480,)\n",
      "3.75 - Achieved std=1.12e-02 after 5 runs (25600,)\n",
      "3.75 - Achieved std=1.03e-02 after 6 runs (30720,)\n",
      "3.75 - Achieved std=9.49e-03 after 7 runs (35840,)\n",
      "3.82 - Achieved std=2.87e-02 after 1 runs (5120,)\n",
      "3.82 - Achieved std=2.03e-02 after 2 runs (10240,)\n",
      "3.82 - Achieved std=1.65e-02 after 3 runs (15360,)\n",
      "3.82 - Achieved std=1.43e-02 after 4 runs (20480,)\n",
      "3.82 - Achieved std=1.28e-02 after 5 runs (25600,)\n",
      "3.82 - Achieved std=1.17e-02 after 6 runs (30720,)\n",
      "3.82 - Achieved std=1.08e-02 after 7 runs (35840,)\n",
      "3.82 - Achieved std=1.01e-02 after 8 runs (40960,)\n",
      "3.82 - Achieved std=9.55e-03 after 9 runs (46080,)\n",
      "3.90 - Achieved std=2.13e-02 after 1 runs (5120,)\n",
      "3.90 - Achieved std=1.51e-02 after 2 runs (10240,)\n",
      "3.90 - Achieved std=1.23e-02 after 3 runs (15360,)\n",
      "3.90 - Achieved std=1.07e-02 after 4 runs (20480,)\n",
      "3.90 - Achieved std=9.54e-03 after 5 runs (25600,)\n",
      "3.98 - Achieved std=1.92e-02 after 1 runs (5120,)\n",
      "3.98 - Achieved std=1.36e-02 after 2 runs (10240,)\n",
      "3.98 - Achieved std=1.11e-02 after 3 runs (15360,)\n",
      "3.98 - Achieved std=9.60e-03 after 4 runs (20480,)\n",
      "4.06 - Achieved std=2.29e-02 after 1 runs (5120,)\n",
      "4.06 - Achieved std=1.62e-02 after 2 runs (10240,)\n",
      "4.06 - Achieved std=1.32e-02 after 3 runs (15360,)\n",
      "4.06 - Achieved std=1.14e-02 after 4 runs (20480,)\n",
      "4.06 - Achieved std=1.02e-02 after 5 runs (25600,)\n",
      "4.06 - Achieved std=9.33e-03 after 6 runs (30720,)\n",
      "4.14 - Achieved std=1.65e-02 after 1 runs (5120,)\n",
      "4.14 - Achieved std=1.17e-02 after 2 runs (10240,)\n",
      "4.14 - Achieved std=9.54e-03 after 3 runs (15360,)\n",
      "4.22 - Achieved std=2.23e-02 after 1 runs (5120,)\n",
      "4.22 - Achieved std=1.57e-02 after 2 runs (10240,)\n",
      "4.22 - Achieved std=1.29e-02 after 3 runs (15360,)\n",
      "4.22 - Achieved std=1.11e-02 after 4 runs (20480,)\n",
      "4.22 - Achieved std=9.96e-03 after 5 runs (25600,)\n",
      "4.30 - Achieved std=2.17e-02 after 1 runs (5120,)\n",
      "4.30 - Achieved std=1.54e-02 after 2 runs (10240,)\n",
      "4.30 - Achieved std=1.25e-02 after 3 runs (15360,)\n",
      "4.30 - Achieved std=1.09e-02 after 4 runs (20480,)\n",
      "4.30 - Achieved std=9.72e-03 after 5 runs (25600,)\n",
      "4.38 - Achieved std=1.98e-02 after 1 runs (5120,)\n",
      "4.38 - Achieved std=1.40e-02 after 2 runs (10240,)\n",
      "4.38 - Achieved std=1.14e-02 after 3 runs (15360,)\n",
      "4.38 - Achieved std=9.90e-03 after 4 runs (20480,)\n",
      "4.45 - Achieved std=2.06e-02 after 1 runs (5120,)\n",
      "4.45 - Achieved std=1.46e-02 after 2 runs (10240,)\n",
      "4.45 - Achieved std=1.19e-02 after 3 runs (15360,)\n",
      "4.45 - Achieved std=1.03e-02 after 4 runs (20480,)\n",
      "4.45 - Achieved std=9.23e-03 after 5 runs (25600,)\n",
      "4.53 - Achieved std=1.74e-02 after 1 runs (5120,)\n",
      "4.53 - Achieved std=1.23e-02 after 2 runs (10240,)\n",
      "4.53 - Achieved std=1.01e-02 after 3 runs (15360,)\n",
      "4.53 - Achieved std=8.72e-03 after 4 runs (20480,)\n",
      "4.61 - Achieved std=2.27e-02 after 1 runs (5120,)\n",
      "4.61 - Achieved std=1.61e-02 after 2 runs (10240,)\n",
      "4.61 - Achieved std=1.31e-02 after 3 runs (15360,)\n",
      "4.61 - Achieved std=1.14e-02 after 4 runs (20480,)\n",
      "4.61 - Achieved std=1.02e-02 after 5 runs (25600,)\n",
      "4.61 - Achieved std=9.27e-03 after 6 runs (30720,)\n"
     ]
    },
    {
     "name": "stdout",
     "output_type": "stream",
     "text": [
      "4.69 - Achieved std=1.87e-02 after 1 runs (5120,)\n",
      "4.69 - Achieved std=1.33e-02 after 2 runs (10240,)\n",
      "4.69 - Achieved std=1.08e-02 after 3 runs (15360,)\n",
      "4.69 - Achieved std=9.37e-03 after 4 runs (20480,)\n",
      "4.77 - Achieved std=1.77e-02 after 1 runs (5120,)\n",
      "4.77 - Achieved std=1.26e-02 after 2 runs (10240,)\n",
      "4.77 - Achieved std=1.02e-02 after 3 runs (15360,)\n",
      "4.77 - Achieved std=8.87e-03 after 4 runs (20480,)\n",
      "4.85 - Achieved std=1.95e-02 after 1 runs (5120,)\n",
      "4.85 - Achieved std=1.38e-02 after 2 runs (10240,)\n",
      "4.85 - Achieved std=1.13e-02 after 3 runs (15360,)\n",
      "4.85 - Achieved std=9.77e-03 after 4 runs (20480,)\n",
      "4.93 - Achieved std=1.29e-02 after 1 runs (5120,)\n",
      "4.93 - Achieved std=9.13e-03 after 2 runs (10240,)\n",
      "5.01 - Achieved std=1.81e-02 after 1 runs (5120,)\n",
      "5.01 - Achieved std=1.28e-02 after 2 runs (10240,)\n",
      "5.01 - Achieved std=1.04e-02 after 3 runs (15360,)\n",
      "5.01 - Achieved std=9.03e-03 after 4 runs (20480,)\n",
      "5.08 - Achieved std=1.91e-02 after 1 runs (5120,)\n",
      "5.08 - Achieved std=1.35e-02 after 2 runs (10240,)\n",
      "5.08 - Achieved std=1.10e-02 after 3 runs (15360,)\n",
      "5.08 - Achieved std=9.53e-03 after 4 runs (20480,)\n",
      "5.16 - Achieved std=1.65e-02 after 1 runs (5120,)\n",
      "5.16 - Achieved std=1.17e-02 after 2 runs (10240,)\n",
      "5.16 - Achieved std=9.53e-03 after 3 runs (15360,)\n",
      "5.24 - Achieved std=1.75e-02 after 1 runs (5120,)\n",
      "5.24 - Achieved std=1.23e-02 after 2 runs (10240,)\n",
      "5.24 - Achieved std=1.01e-02 after 3 runs (15360,)\n",
      "5.24 - Achieved std=8.73e-03 after 4 runs (20480,)\n",
      "5.32 - Achieved std=1.38e-02 after 1 runs (5120,)\n",
      "5.32 - Achieved std=9.78e-03 after 2 runs (10240,)\n",
      "5.40 - Achieved std=1.15e-02 after 1 runs (5120,)\n",
      "5.40 - Achieved std=8.16e-03 after 2 runs (10240,)\n",
      "5.48 - Achieved std=1.62e-02 after 1 runs (5120,)\n",
      "5.48 - Achieved std=1.15e-02 after 2 runs (10240,)\n",
      "5.48 - Achieved std=9.36e-03 after 3 runs (15360,)\n",
      "5.56 - Achieved std=9.69e-03 after 1 runs (5120,)\n",
      "5.64 - Achieved std=1.93e-02 after 1 runs (5120,)\n",
      "5.64 - Achieved std=1.36e-02 after 2 runs (10240,)\n",
      "5.64 - Achieved std=1.11e-02 after 3 runs (15360,)\n",
      "5.64 - Achieved std=9.64e-03 after 4 runs (20480,)\n",
      "5.72 - Achieved std=2.00e-02 after 1 runs (5120,)\n",
      "5.72 - Achieved std=1.41e-02 after 2 runs (10240,)\n",
      "5.72 - Achieved std=1.15e-02 after 3 runs (15360,)\n",
      "5.72 - Achieved std=1.00e-02 after 4 runs (20480,)\n",
      "5.72 - Achieved std=8.95e-03 after 5 runs (25600,)\n",
      "5.79 - Achieved std=1.28e-02 after 1 runs (5120,)\n",
      "5.79 - Achieved std=9.07e-03 after 2 runs (10240,)\n",
      "5.87 - Achieved std=9.29e-03 after 1 runs (5120,)\n",
      "5.95 - Achieved std=7.25e-03 after 1 runs (5120,)\n",
      "6.03 - Achieved std=1.60e-02 after 1 runs (5120,)\n",
      "6.03 - Achieved std=1.13e-02 after 2 runs (10240,)\n",
      "6.03 - Achieved std=9.25e-03 after 3 runs (15360,)\n",
      "6.11 - Achieved std=8.54e-03 after 1 runs (5120,)\n",
      "6.19 - Achieved std=1.06e-02 after 1 runs (5120,)\n",
      "6.19 - Achieved std=7.50e-03 after 2 runs (10240,)\n",
      "6.27 - Achieved std=4.12e-03 after 1 runs (5120,)\n",
      "6.35 - Achieved std=3.19e-03 after 1 runs (5120,)\n",
      "6.42 - Achieved std=2.66e-03 after 1 runs (5120,)\n",
      "6.50 - Achieved std=2.43e-03 after 1 runs (5120,)\n",
      "6.58 - Achieved std=2.08e-03 after 1 runs (5120,)\n",
      "6.66 - Achieved std=1.93e-03 after 1 runs (5120,)\n",
      "6.74 - Achieved std=1.58e-03 after 1 runs (5120,)\n",
      "6.82 - Achieved std=1.40e-03 after 1 runs (5120,)\n",
      "6.90 - Achieved std=1.44e-03 after 1 runs (5120,)\n",
      "6.98 - Achieved std=1.11e-03 after 1 runs (5120,)\n",
      "7.05 - Achieved std=9.43e-04 after 1 runs (5120,)\n",
      "7.13 - Achieved std=9.32e-04 after 1 runs (5120,)\n",
      "7.21 - Achieved std=8.51e-04 after 1 runs (5120,)\n",
      "7.29 - Achieved std=7.97e-04 after 1 runs (5120,)\n",
      "7.37 - Achieved std=7.02e-04 after 1 runs (5120,)\n",
      "7.45 - Achieved std=5.80e-04 after 1 runs (5120,)\n",
      "7.53 - Achieved std=4.50e-04 after 1 runs (5120,)\n",
      "7.61 - Achieved std=4.52e-04 after 1 runs (5120,)\n",
      "7.68 - Achieved std=4.02e-04 after 1 runs (5120,)\n",
      "7.76 - Achieved std=3.30e-04 after 1 runs (5120,)\n",
      "7.84 - Achieved std=3.37e-04 after 1 runs (5120,)\n",
      "7.92 - Achieved std=2.83e-04 after 1 runs (5120,)\n",
      "8.00 - Achieved std=2.50e-04 after 1 runs (5120,)\n"
     ]
    }
   ],
   "source": [
    "# find uncertainty dynamically (not good)\n",
    "prec = 100\n",
    "batch_size = 1024\n",
    "dRmin = .2\n",
    "dRmax = 8.\n",
    "dR0 = np.linspace(dRmin, dRmax, prec)\n",
    "etamin = -5.\n",
    "etamax = 5.\n",
    "phimin = -np.pi + 1.e-2\n",
    "phimax = np.pi - 1.e-2\n",
    "\n",
    "std_goal = .01\n",
    "N = batch_size * 5\n",
    "Ntry = N * 10\n",
    "itry_max = 20\n",
    "\n",
    "def getMarginalLikelihood(dRval, N, out=False):\n",
    "    I_mean, I_std = 0., 1.\n",
    "    Nact = 0\n",
    "    base = np.zeros((0, 5))\n",
    "    accRate = np.zeros(0)\n",
    "    likelihood = np.zeros(0)\n",
    "    itry = 1\n",
    "    while I_std > std_goal:\n",
    "        #generate samples\n",
    "        while Nact<N:\n",
    "            phi1 = np.random.uniform(low=phimin, high=phimax, size=Ntry)\n",
    "            phi2 = np.random.uniform(low=phimin, high=phimax, size=Ntry)\n",
    "            eta1 = np.random.uniform(low=etamin, high=etamax, size=Ntry)\n",
    "            eta2 = eta1 - (dRval**2 - (phi1-phi2)**2)**.5\n",
    "            idx = np.where(np.invert(np.isnan(eta2)))\n",
    "            Nidx = np.shape(idx)[1]\n",
    "            accRate = np.append(accRate, Nidx/Ntry)\n",
    "            phi1, phi2, eta1, eta2 = phi1[idx], phi2[idx], eta1[idx], eta2[idx]\n",
    "            Nact += Nidx\n",
    "        \n",
    "            x1 = (np.arctanh(phi1 / np.pi) - data_mean[0,0]) / data_std[0,0]\n",
    "            x2 = (eta1 - data_mean[0,1]) / data_std[0,1]\n",
    "            x3 = (np.arctanh(phi2 / np.pi) - data_mean[0,2]) / data_std[0,2]\n",
    "            x4 = (eta2 - data_mean[0,3]) / data_std[0,3]\n",
    "        \n",
    "            facPrep1 = np.pi/(np.pi**2- phi1**2) * np.pi/(np.pi**2- phi2**2) #coordinate transformation in preprocess=1\n",
    "            facPrep2 = 1/(data_std[0,0] * data_std[0,1] * data_std[0,2] * data_std[0,3]) #coordinate transformation in preprocess=2\n",
    "            facdR = 2 * dRval / (dRval**2 - (phi1 - phi2)**2)**.5\n",
    "            jacFac = facPrep1 * facPrep2 * facdR\n",
    "        \n",
    "            base = np.append(base, np.stack([x1, x2, x3, x4, jacFac], -1), axis=0)\n",
    "        base = base[:N, :]\n",
    "        \n",
    "        #evaluate likelihood\n",
    "        x = torch.from_numpy(base)\n",
    "        x0 = x[:,:4].float()\n",
    "        _, likelihood0, _, _, _ = model.batch_loss(x0, getMore=True)\n",
    "        likelihood0 *= x[:,4]\n",
    "        likelihood0 = likelihood0.detach().numpy()\n",
    "        likelihood = np.append(likelihood, likelihood0)\n",
    "    \n",
    "        #evaluate integral\n",
    "        likelihood_mean = np.mean(likelihood)\n",
    "        V = (phimax-phimin)**2 * (etamax-etamin) * np.mean(accRate)\n",
    "        I_mean = V * likelihood_mean\n",
    "        I_std = V /(N*itry)**.5 * (1/(N*itry-1) * np.sum((likelihood-likelihood_mean)**2))**.5\n",
    "        print(f\"{dRval:.2f} - Achieved std={I_std:.2e} after {itry} runs\", np.shape(likelihood))\n",
    "        \n",
    "        itry+=1\n",
    "        if itry>itry_max:\n",
    "            break\n",
    "    return I_mean, I_std\n",
    "    \n",
    "marg, marg_err = np.zeros((2, prec))\n",
    "for i in range(prec):\n",
    "    t0 = time.time()\n",
    "    print(f\"{i:>3}/{prec}\", end=\"\\r\")\n",
    "    marg[i], marg_err[i] = getMarginalLikelihood(dR0[i], N)\n",
    "    if i==0:\n",
    "        t1 = time.time()\n",
    "        print(f\"Estimate: {(t1-t0)*prec:.2f} s = {(t1-t0)*prec/60:.2f} min\")"
   ]
  },
  {
   "cell_type": "code",
   "execution_count": 36,
   "id": "455d46cc",
   "metadata": {},
   "outputs": [
    {
     "data": {
      "image/png": "[encoded data removed]",
      "text/plain": [
       "<Figure size 640x480 with 1 Axes>"
      ]
     },
     "metadata": {},
     "output_type": "display_data"
    }
   ],
   "source": [
    "def dR(data):\n",
    "    return ((data[:,9]-data[:,13])**2 + (data[:,10]-data[:,14])**2)**.5\n",
    "nbins=100\n",
    "dRmin0 = 0.\n",
    "dRmax0 = 8.\n",
    "plt.hist(dR(data_raw), range=(dRmin0, dRmax0), bins=nbins, alpha=.5, density=True, color=\"r\", label=\"truth\")\n",
    "plt.hist(dR(samples_raw), range=(dRmin0, dRmax0), bins=nbins, alpha=.5, density=True, color=\"b\", label=\"model\")\n",
    "plt.plot(dR0, marg, color=\"b\", label=\"model likelihood\")\n",
    "plt.fill_between(dR0, marg+marg_err, marg-marg_err, color=\"b\", alpha=.3)\n",
    "ymin, ymax = plt.ylim()\n",
    "plt.vlines(.4, ymin, ymax, color=\"k\", linestyle=\"--\", alpha=.5)\n",
    "plt.xlim(dRmin0, dRmax0)\n",
    "plt.ylim(ymin, ymax)\n",
    "plt.legend()\n",
    "plt.savefig(\"marginaldR_test.pdf\", bbox_inches=\"tight\")\n",
    "plt.show()"
   ]
  },
  {
   "cell_type": "code",
   "execution_count": 55,
   "id": "abafed6f",
   "metadata": {},
   "outputs": [
    {
     "data": {
      "image/png": "[encoded data removed]",
      "text/plain": [
       "<Figure size 640x480 with 1 Axes>"
      ]
     },
     "metadata": {},
     "output_type": "display_data"
    }
   ],
   "source": [
    "nbins=1000\n",
    "dRmin0 = 0.2\n",
    "dRmax0 = 1.5 \n",
    "plt.hist(dR(data_raw), range=(0., 8.), bins=nbins, alpha=.5, density=True, color=\"r\", label=\"truth\")\n",
    "#plt.hist(dR(samples_raw), range=(dRmin0, dRmax0), bins=nbins, alpha=.5, density=True, color=\"b\", label=\"model\")\n",
    "plt.plot(dR0, marg, color=\"b\", label=\"model likelihood\")\n",
    "plt.fill_between(dR0, marg+marg_err, marg-marg_err, color=\"b\", alpha=.3)\n",
    "plt.ylim(0., .1)\n",
    "ymin, ymax = plt.ylim()\n",
    "plt.vlines(.4, ymin, ymax, color=\"k\", linestyle=\"--\", alpha=.5)\n",
    "plt.xlim(dRmin0, dRmax0)\n",
    "plt.ylim(ymin, ymax)\n",
    "plt.legend()\n",
    "plt.savefig(\"marginaldR_test.pdf\", bbox_inches=\"tight\")\n",
    "plt.show()"
   ]
  },
  {
   "cell_type": "code",
   "execution_count": 37,
   "id": "313cc415",
   "metadata": {},
   "outputs": [
    {
     "name": "stdout",
     "output_type": "stream",
     "text": [
      "[0.00110622 0.00249513 0.01077432 0.03930907 0.06880746 0.07335197\n",
      " 0.06640691 0.05919935 0.05489723 0.04855242 0.04447659 0.0421921\n",
      " 0.04037873 0.04002671 0.03952694 0.03890121 0.03928965 0.03894748\n",
      " 0.03933552 0.03935045 0.0401935  0.04099793 0.04100716 0.04224656\n",
      " 0.04540579 0.04790616 0.05084258 0.05325258 0.05635198 0.06037558\n",
      " 0.06665337 0.07386631 0.08355381 0.09187939 0.10928812 0.12549077\n",
      " 0.14615331 0.16569823 0.21330195 0.22963743 0.25906133 0.29623736\n",
      " 0.3081238  0.32302838 0.32663438 0.33889228 0.34926719 0.35905069\n",
      " 0.37261745 0.35187959 0.3508659  0.35138154 0.34011544 0.33413806\n",
      " 0.32337105 0.31065188 0.29062799 0.2896049  0.27292745 0.25389705\n",
      " 0.25589252 0.24432354 0.22276105 0.22047335 0.21346858 0.20175014\n",
      " 0.20211907 0.18661997 0.17408614 0.1673777  0.15405425 0.14840876\n",
      " 0.13851344 0.11648674 0.10304941 0.0866805  0.08035097 0.06433878\n",
      " 0.05414057 0.04764373 0.04223831 0.03771079 0.03314597 0.028527\n",
      " 0.0259455  0.02322016 0.02030563 0.01820818 0.0163371  0.01454677\n",
      " 0.01272057 0.01111409 0.00985114 0.00879875 0.00766463 0.00682807\n",
      " 0.00603037 0.00533587 0.00468493 0.00399205]\n",
      "[1.59726305e-05 2.45162283e-05 1.97996482e-04 7.17687302e-04\n",
      " 8.32114939e-04 7.44340206e-04 7.72412711e-04 1.14661679e-03\n",
      " 8.94998274e-04 5.21397368e-04 4.55154890e-04 5.33376169e-04\n",
      " 5.24449488e-04 4.35606338e-04 4.49168343e-04 4.28669198e-04\n",
      " 4.74389711e-04 4.87884955e-04 4.53374850e-04 5.48621164e-04\n",
      " 4.70815244e-04 4.79845979e-04 5.28902876e-04 5.09350276e-04\n",
      " 7.14111434e-04 1.06463745e-03 8.04112054e-04 8.90058747e-04\n",
      " 8.62675783e-04 1.02784183e-03 1.18729944e-03 1.27189066e-03\n",
      " 2.50139697e-03 1.83135802e-03 2.99272782e-03 2.76347581e-03\n",
      " 3.21242693e-03 3.34637963e-03 1.22305546e-02 5.85067165e-03\n",
      " 5.40877523e-03 9.22399321e-03 1.14116174e-02 5.65404261e-03\n",
      " 6.06164430e-03 7.90719517e-03 5.71116757e-03 9.27795850e-03\n",
      " 6.62365635e-03 5.68804759e-03 5.43025095e-03 1.66210870e-02\n",
      " 6.22716554e-03 7.10505616e-03 5.40651229e-03 4.74127255e-03\n",
      " 4.12903039e-03 5.58200201e-03 4.28211081e-03 4.02244927e-03\n",
      " 4.56793899e-03 5.04821857e-03 3.40895153e-03 5.51449205e-03\n",
      " 4.88936338e-03 5.03428116e-03 1.61314114e-02 6.90246285e-03\n",
      " 3.99011784e-03 6.18408226e-03 5.24924389e-03 5.16049048e-03\n",
      " 5.25342533e-03 3.57014378e-03 2.44943642e-03 2.18545868e-03\n",
      " 2.17662355e-03 1.13647832e-03 7.43457055e-04 6.28539042e-04\n",
      " 5.46783580e-04 4.71572689e-04 4.18681634e-04 3.54994082e-04\n",
      " 3.21596183e-04 2.88902635e-04 2.51489762e-04 2.28219947e-04\n",
      " 2.08774271e-04 1.86724506e-04 1.65374617e-04 1.44759732e-04\n",
      " 1.28929405e-04 1.16170434e-04 1.02990968e-04 9.03431695e-05\n",
      " 8.03874328e-05 7.29648856e-05 6.34950102e-05 5.48852826e-05]\n"
     ]
    }
   ],
   "source": [
    "print(marg)\n",
    "print(marg_err)"
   ]
  },
  {
   "cell_type": "code",
   "execution_count": 44,
   "id": "342ccf5c",
   "metadata": {},
   "outputs": [
    {
     "name": "stdout",
     "output_type": "stream",
     "text": [
      "[0.2        0.21313131 0.22626263 0.23939394 0.25252525 0.26565657\n",
      " 0.27878788 0.29191919 0.30505051 0.31818182 0.33131313 0.34444444\n",
      " 0.35757576 0.37070707 0.38383838 0.3969697  0.41010101 0.42323232\n",
      " 0.43636364 0.44949495 0.46262626 0.47575758 0.48888889 0.5020202\n",
      " 0.51515152 0.52828283 0.54141414 0.55454545 0.56767677 0.58080808\n",
      " 0.59393939 0.60707071 0.62020202 0.63333333 0.64646465 0.65959596\n",
      " 0.67272727 0.68585859 0.6989899  0.71212121 0.72525253 0.73838384\n",
      " 0.75151515 0.76464646 0.77777778 0.79090909 0.8040404  0.81717172\n",
      " 0.83030303 0.84343434 0.85656566 0.86969697 0.88282828 0.8959596\n",
      " 0.90909091 0.92222222 0.93535354 0.94848485 0.96161616 0.97474747\n",
      " 0.98787879 1.0010101  1.01414141 1.02727273 1.04040404 1.05353535\n",
      " 1.06666667 1.07979798 1.09292929 1.10606061 1.11919192 1.13232323\n",
      " 1.14545455 1.15858586 1.17171717 1.18484848 1.1979798  1.21111111\n",
      " 1.22424242 1.23737374 1.25050505 1.26363636 1.27676768 1.28989899\n",
      " 1.3030303  1.31616162 1.32929293 1.34242424 1.35555556 1.36868687\n",
      " 1.38181818 1.39494949 1.40808081 1.42121212 1.43434343 1.44747475\n",
      " 1.46060606 1.47373737 1.48686869 1.5       ]\n"
     ]
    }
   ],
   "source": [
    "print(dR0)"
   ]
  },
  {
   "cell_type": "code",
   "execution_count": null,
   "id": "57d3eae0",
   "metadata": {},
   "outputs": [],
   "source": []
  }
 ],
 "metadata": {
  "kernelspec": {
   "display_name": "Python 3 (ipykernel)",
   "language": "python",
   "name": "python3"
  },
  "language_info": {
   "codemirror_mode": {
    "name": "ipython",
    "version": 3
   },
   "file_extension": ".py",
   "mimetype": "text/x-python",
   "name": "python",
   "nbconvert_exporter": "python",
   "pygments_lexer": "ipython3",
   "version": "3.10.6"
  }
 },
 "nbformat": 4,
 "nbformat_minor": 5
}

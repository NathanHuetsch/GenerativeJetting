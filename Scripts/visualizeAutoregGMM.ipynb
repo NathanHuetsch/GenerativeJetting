{
 "cells": [
  {
   "cell_type": "code",
   "execution_count": 1,
   "id": "78cafbca",
   "metadata": {},
   "outputs": [
    {
     "name": "stderr",
     "output_type": "stream",
     "text": [
      "/usr/local/lib/python3.10/dist-packages/tqdm/auto.py:22: TqdmWarning: IProgress not found. Please update jupyter and ipywidgets. See https://ipywidgets.readthedocs.io/en/stable/user_install.html\n",
      "  from .autonotebook import tqdm as notebook_tqdm\n"
     ]
    }
   ],
   "source": [
    "import numpy as np\n",
    "import matplotlib.pyplot as plt\n",
    "import os, sys\n",
    "os.chdir(\"..\")\n",
    "from Source.Models.autoregGMM import AutoRegGMM\n",
    "import Source.Util.preprocessing as prep\n",
    "from Source.Util.util import load_params, get, get_device\n",
    "import torch\n",
    "from torch.utils.data import DataLoader"
   ]
  },
  {
   "cell_type": "code",
   "execution_count": 2,
   "id": "b7ea3355",
   "metadata": {},
   "outputs": [],
   "source": [
    "obs_names = np.array([\"p_{T,l1}\", \"\\phi_{l1}\", \"\\eta_{l1}\", \"\\mu_{l1}\",\n",
    "                    \"p_{T,l2}\", \"\\phi_{l2}\", \"\\eta_{l2}\", \"\\mu_{l2}\",\n",
    "                  \"p_{T,j1}\", \"\\phi_{j1}\", \"\\eta_{j1}\", \"\\mu_{j1}\",\n",
    "                  \"p_{T,j2}\", \"\\phi_{j2}\", \"\\eta_{j2}\", \"\\mu_{j2}\"])"
   ]
  },
  {
   "cell_type": "code",
   "execution_count": 3,
   "id": "608e301d",
   "metadata": {},
   "outputs": [],
   "source": [
    "runpath = \"runs/ART_local_4253/\"\n",
    "#runpath = \"runs/set5_discr2_prep1/\"\n",
    "#runpath = \"runs/set1_13dim_bin050_prep0_discr2/\"\n",
    "#runpath = \"runs/set1_13dim_bin050_prep0_discr1/\"\n",
    "#runpath = \"runs/set3_4dim_semiautoreg/\"\n",
    "#runpath = \"runs/set3_13dim_semiautoreg_max/\""
   ]
  },
  {
   "cell_type": "markdown",
   "id": "ebcae457",
   "metadata": {},
   "source": [
    "# Load data"
   ]
  },
  {
   "cell_type": "code",
   "execution_count": 4,
   "id": "befaf997",
   "metadata": {},
   "outputs": [],
   "source": [
    "modelpath = runpath + \"models/model_run0.pt\"\n",
    "parampath = runpath + \"paramfile.yaml\"\n",
    "params = load_params(parampath)\n",
    "params[\"device\"]=get_device()"
   ]
  },
  {
   "cell_type": "code",
   "execution_count": 5,
   "id": "1dc4547f",
   "metadata": {},
   "outputs": [],
   "source": [
    "data_raw = np.load(\"../data/Z_2.npy\")\n",
    "data_raw = prep.preformat(data_raw, params)\n",
    "channels = params[\"channels\"]\n",
    "n_gauss = params[\"n_gauss\"]\n",
    "data, data_mean, data_std, data_u, data_s = prep.preprocess(data_raw, params=params)"
   ]
  },
  {
   "cell_type": "markdown",
   "id": "7055b47e",
   "metadata": {},
   "source": [
    "# Initialize modified model class"
   ]
  },
  {
   "cell_type": "code",
   "execution_count": 6,
   "id": "8dc86e50",
   "metadata": {},
   "outputs": [
    {
     "name": "stdout",
     "output_type": "stream",
     "text": [
      "Build model AutoRegGMM with n_head=1, n_per_head=8, n_blocks=2, intermediate_fac=2, n_gauss=10\n"
     ]
    },
    {
     "data": {
      "text/plain": [
       "<All keys matched successfully>"
      ]
     },
     "execution_count": 6,
     "metadata": {},
     "output_type": "execute_result"
    }
   ],
   "source": [
    "model = AutoRegGMM(params)\n",
    "state_dict = torch.load(modelpath, map_location=params[\"device\"])\n",
    "model.load_state_dict(state_dict)"
   ]
  },
  {
   "cell_type": "code",
   "execution_count": 7,
   "id": "ecc57a02",
   "metadata": {},
   "outputs": [],
   "source": [
    "data_split = params[\"data_split\"]\n",
    "n_data = len(data)\n",
    "cut1 = int(n_data - data_split[0])\n",
    "model.train_loader = DataLoader(dataset=data[:cut1], batch_size=params[\"batch_size\"], shuffle=True)"
   ]
  },
  {
   "cell_type": "markdown",
   "id": "1e8e7293",
   "metadata": {},
   "source": [
    "# Generate samples"
   ]
  },
  {
   "cell_type": "code",
   "execution_count": 8,
   "id": "52bf8ee8",
   "metadata": {},
   "outputs": [
    {
     "name": "stderr",
     "output_type": "stream",
     "text": [
      "/usr/local/lib/python3.10/dist-packages/torch/distributions/distribution.py:167: UserWarning: sample_n will be deprecated. Use .sample((n,)) instead\n",
      "  warnings.warn('sample_n will be deprecated. Use .sample((n,)) instead', UserWarning)\n"
     ]
    },
    {
     "name": "stdout",
     "output_type": "stream",
     "text": [
      "[[ 0.4900508  -0.118234    0.49344653 -0.38720486  0.38993746  1.0570016\n",
      "  -0.7362228  -1.6232859  -1.5372509  -1.3778781   0.68183887  1.4635062\n",
      "   0.30500373]\n",
      " [-0.65496475 -0.4910516   0.28008944 -0.62434995  1.8277882  -0.7864026\n",
      "  -1.0115246   1.3493137   0.3236321  -1.7021757  -0.23278043 -1.123631\n",
      "   0.67846155]\n",
      " [-0.964545   -1.077268    1.6400086   1.0663277   0.40344763  0.46356833\n",
      "   1.4479439  -0.06993505 -0.07388714  0.10677332  0.56259906 -1.8334982\n",
      "   1.1004391 ]\n",
      " [ 0.13808614  0.02564137  0.39396963  0.46917686  0.6590638   0.15264931\n",
      "  -0.34881863  0.10155818  0.16535671  0.55820596 -0.16511339  0.13294263\n",
      "  -0.7804279 ]\n",
      " [ 0.45731658 -1.2836105  -1.3094792   0.3700785   1.2376156  -0.28813624\n",
      "   0.4301344  -1.8384848   0.87844825  0.4513294   0.3064781  -1.1795349\n",
      "  -0.54919773]\n",
      " [ 0.12412509 -1.0110297  -1.8784784  -0.10237636  0.27742344  0.31040674\n",
      "  -0.23045695 -0.67252815  0.6151273  -1.0802476   0.36166573 -0.47237504\n",
      "   1.6535815 ]\n",
      " [-0.04518151 -0.5955237   1.4314734  -1.6559074  -2.9446797  -0.37073353\n",
      "  -0.86575305  0.31883815  0.7346151  -0.6686626   0.6027839  -1.6150732\n",
      "   0.31433392]\n",
      " [-0.46479726  0.69512963 -0.7969801   0.11230861 -0.81613314  0.35892546\n",
      "  -0.9677694  -0.30993    -0.6759856   0.46266904  1.140703    0.3745073\n",
      "   0.0216074 ]\n",
      " [ 1.2618566   1.2332498  -0.19817147 -0.1480372   0.83988     0.5107628\n",
      "   0.06960972 -0.6229778   0.3335653  -0.5246854   0.3124538  -1.7112315\n",
      "  -1.2495203 ]\n",
      " [ 0.3013274  -0.77494544  0.33251563 -0.2945462   1.1457986   1.09425\n",
      "   0.8661366   0.08159105  0.02670653 -1.4614704   0.71871823 -0.03072654\n",
      "  -2.053382  ]]\n",
      "(10, 13, 1000) (13, 1000) (10, 13, 10, 1000) (10, 13) torch.Size([1110181, 13])\n"
     ]
    }
   ],
   "source": [
    "n_samples = 10\n",
    "samples, xs, probs, probsindiv = model.sample_n_bonus(n_samples)\n",
    "samples = samples[:,1:]\n",
    "\n",
    "print(samples)\n",
    "print(np.shape(probs), np.shape(xs), np.shape(probsindiv), np.shape(samples), np.shape(data))"
   ]
  },
  {
   "cell_type": "markdown",
   "id": "120aba29",
   "metadata": {},
   "source": [
    "# Test plot"
   ]
  },
  {
   "cell_type": "code",
   "execution_count": 9,
   "id": "7a37b10a",
   "metadata": {},
   "outputs": [
    {
     "data": {
      "image/png": "[encoded data removed]",
      "text/plain": [
       "<Figure size 640x480 with 1 Axes>"
      ]
     },
     "metadata": {},
     "output_type": "display_data"
    }
   ],
   "source": [
    "idim=0\n",
    "isample=0\n",
    "bins=100\n",
    "xmin=np.min(xs[idim,:])\n",
    "xmax=np.max(xs[idim,:])\n",
    "plt.hist(data[:,idim], alpha=.5, bins=bins, range=(xmin, xmax), density=True, align=\"mid\", rwidth=1.)\n",
    "plt.plot(xs[idim,:], probs[isample, idim, :], color=\"g\")\n",
    "for igauss in range(n_gauss):\n",
    "    plt.plot(xs[idim,:], probsindiv[isample,idim,igauss,:], color=\"g\", linestyle=\"-\", alpha=.2)\n",
    "_, ymax = plt.ylim()\n",
    "plt.vlines(samples[isample,idim], 0., ymax, \"r\", linewidth=1)\n",
    "plt.xlim(xmin, xmax)\n",
    "plt.ylim(0., ymax)\n",
    "plt.show()"
   ]
  },
  {
   "cell_type": "markdown",
   "id": "78abed90",
   "metadata": {},
   "source": [
    "TBD\n",
    "- Plot also the individual gaussians (nicer)"
   ]
  },
  {
   "cell_type": "code",
   "execution_count": null,
   "id": "867da303",
   "metadata": {},
   "outputs": [],
   "source": []
  },
  {
   "cell_type": "markdown",
   "id": "a765a3d8",
   "metadata": {},
   "source": [
    "# Fancy plot"
   ]
  },
  {
   "cell_type": "code",
   "execution_count": 10,
   "id": "8f75d80d",
   "metadata": {},
   "outputs": [],
   "source": [
    "def probPlot(probs, samples, filenameOut=None, var=None, maxSamples=None, nbins=100):\n",
    "    nsamples = np.shape(samples)[0]\n",
    "    if(maxSamples!=None):\n",
    "       nsamples = np.min([nsamples, maxSamples])\n",
    "    ndim = np.shape(samples)[1]\n",
    "    f, axarr = plt.subplots(nsamples, ndim, figsize=(3*ndim,3*nsamples), sharex=True,\n",
    "                           gridspec_kw={\"hspace\": 0.})\n",
    "    plt.tight_layout()\n",
    "    \n",
    "    ymax=np.zeros(ndim)\n",
    "    for isample in range(nsamples):\n",
    "        print(f\"Working on sample {isample}/{nsamples}\")\n",
    "        for idim in range(ndim):\n",
    "            xmin=xs[idim,0]\n",
    "            xmax=xs[idim,-1]\n",
    "            \n",
    "            axarr[isample,idim].plot(xs[idim,:], probs[isample,idim,:], color=\"g\")\n",
    "            axarr[isample,idim].hist(data[:,idim], density=True, alpha=.5, range=(xmin, xmax), rwidth=1., bins=nbins, align=\"mid\")\n",
    "            for igauss in range(n_gauss):\n",
    "                axarr[isample,idim].plot(xs[idim,:], probsindiv[isample,idim,igauss,:], color=\"g\", alpha=.2)\n",
    "            _, ymax0 = axarr[isample,idim].get_ylim()\n",
    "\n",
    "            ymax[idim] = np.max([ymax[idim], ymax0])\n",
    "            print(samples[isample,idim], ymax[idim], xmin, xmax)\n",
    "            axarr[isample,idim].vlines(samples[isample,idim], 0., ymax[idim], color=\"r\")\n",
    "            if((type(var) is np.ndarray) and isample==nsamples-1):\n",
    "                axarr[isample,idim].set_xlabel(r\"${%s}$ bin\" %var[idim])\n",
    "    for isample in range(nsamples):\n",
    "        for idim in range(ndim):\n",
    "            xmin=xs[idim,0]\n",
    "            xmax=xs[idim,-1]\n",
    "            axarr[isample,idim].set_ylim(0, ymax[idim])\n",
    "            #axarr[isample,idim].set_xlim(xmin, xmax)\n",
    "    if(filenameOut!=None):\n",
    "        f.savefig(filenameOut, format=\"pdf\")\n",
    "    #plt.close()"
   ]
  },
  {
   "cell_type": "code",
   "execution_count": null,
   "id": "1cd6fb74",
   "metadata": {},
   "outputs": [
    {
     "name": "stdout",
     "output_type": "stream",
     "text": [
      "Working on sample 0/5\n",
      "0.4900508 0.4947218433022499 -4.437716484069824 3.8750665187835693\n",
      "-0.118234 0.41913301795721053 -3.262286901473999 3.506521224975586\n",
      "0.49344653 0.5707267516813693 -3.323279619216919 3.0857796669006348\n",
      "-0.38720486 0.5473363060161616 -4.255023002624512 4.989521503448486\n",
      "0.38993746 0.4198781535029411 -3.169504404067993 3.097771644592285\n"
     ]
    }
   ],
   "source": [
    "probPlot(probs, samples, var=obs_names[params[\"channels\"]], maxSamples=5, \n",
    "         filenameOut=\"Scripts/visualizeAutoreg/visualizeAutoreg_4dim_5gauss.pdf\")"
   ]
  },
  {
   "cell_type": "code",
   "execution_count": null,
   "id": "af450eb1",
   "metadata": {},
   "outputs": [],
   "source": []
  }
 ],
 "metadata": {
  "kernelspec": {
   "display_name": "Python 3 (ipykernel)",
   "language": "python",
   "name": "python3"
  },
  "language_info": {
   "codemirror_mode": {
    "name": "ipython",
    "version": 3
   },
   "file_extension": ".py",
   "mimetype": "text/x-python",
   "name": "python",
   "nbconvert_exporter": "python",
   "pygments_lexer": "ipython3",
   "version": "3.10.6"
  }
 },
 "nbformat": 4,
 "nbformat_minor": 5
}

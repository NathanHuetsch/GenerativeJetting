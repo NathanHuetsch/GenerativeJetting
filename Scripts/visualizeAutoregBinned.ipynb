{
 "cells": [
  {
   "cell_type": "code",
   "execution_count": 1,
   "id": "78cafbca",
   "metadata": {},
   "outputs": [
    {
     "name": "stderr",
     "output_type": "stream",
     "text": [
      "/usr/local/lib/python3.10/dist-packages/tqdm/auto.py:22: TqdmWarning: IProgress not found. Please update jupyter and ipywidgets. See https://ipywidgets.readthedocs.io/en/stable/user_install.html\n",
      "  from .autonotebook import tqdm as notebook_tqdm\n"
     ]
    }
   ],
   "source": [
    "import numpy as np\n",
    "import matplotlib.pyplot as plt\n",
    "import os, sys\n",
    "os.chdir(\"..\")\n",
    "from Source.Models.autoregBinned import AutoRegBinned\n",
    "import Source.Util.preprocessing as prep\n",
    "from Source.Util.util import load_params, get, get_device\n",
    "import torch\n",
    "from torch.utils.data import DataLoader"
   ]
  },
  {
   "cell_type": "code",
   "execution_count": 2,
   "id": "b7ea3355",
   "metadata": {},
   "outputs": [],
   "source": [
    "obs_names = np.array([\"p_{T,l1}\", \"\\phi_{l1}\", \"\\eta_{l1}\", \"\\mu_{l1}\",\n",
    "                    \"p_{T,l2}\", \"\\phi_{l2}\", \"\\eta_{l2}\", \"\\mu_{l2}\",\n",
    "                  \"p_{T,j1}\", \"\\phi_{j1}\", \"\\eta_{j1}\", \"\\mu_{j1}\",\n",
    "                  \"p_{T,j2}\", \"\\phi_{j2}\", \"\\eta_{j2}\", \"\\mu_{j2}\"])"
   ]
  },
  {
   "cell_type": "code",
   "execution_count": 3,
   "id": "608e301d",
   "metadata": {},
   "outputs": [],
   "source": [
    "runpath = \"runs/AutoRegBinned_local_5752/\"\n",
    "#runpath = \"runs/set5_discr2_prep1/\"\n",
    "#runpath = \"runs/set1_13dim_bin050_prep0_discr2/\"\n",
    "#runpath = \"runs/set1_13dim_bin050_prep0_discr1/\"\n",
    "#runpath = \"runs/set3_4dim_semiautoreg/\"\n",
    "#runpath = \"runs/set3_13dim_semiautoreg_max/\""
   ]
  },
  {
   "cell_type": "markdown",
   "id": "ebcae457",
   "metadata": {},
   "source": [
    "# Load data"
   ]
  },
  {
   "cell_type": "code",
   "execution_count": 4,
   "id": "befaf997",
   "metadata": {},
   "outputs": [],
   "source": [
    "modelpath = runpath + \"models/model_run0.pt\"\n",
    "parampath = runpath + \"paramfile.yaml\"\n",
    "params = load_params(parampath)\n",
    "params[\"device\"]=get_device()"
   ]
  },
  {
   "cell_type": "code",
   "execution_count": 5,
   "id": "1dc4547f",
   "metadata": {},
   "outputs": [],
   "source": [
    "data_raw = np.load(\"../data/Z_2.npy\")\n",
    "data_raw = prep.preformat(data_raw, params)\n",
    "n_bins = params[\"n_bins\"]\n",
    "channels = params[\"channels\"]\n",
    "data, data_mean, data_std, data_u, data_s, bin_edges, bin_means = prep.preprocess(data_raw, params=params)"
   ]
  },
  {
   "cell_type": "markdown",
   "id": "7055b47e",
   "metadata": {},
   "source": [
    "# Initialize modified model class"
   ]
  },
  {
   "cell_type": "code",
   "execution_count": 6,
   "id": "8dc86e50",
   "metadata": {},
   "outputs": [
    {
     "name": "stdout",
     "output_type": "stream",
     "text": [
      "Build model AutoRegBinned with n_head=3, n_per_head=12, n_blocks=3, intermediate_fac=2, n_bins=50\n"
     ]
    },
    {
     "data": {
      "text/plain": [
       "<All keys matched successfully>"
      ]
     },
     "execution_count": 6,
     "metadata": {},
     "output_type": "execute_result"
    }
   ],
   "source": [
    "model = AutoRegBinned(params)\n",
    "state_dict = torch.load(modelpath, map_location=params[\"device\"])\n",
    "model.load_state_dict(state_dict)"
   ]
  },
  {
   "cell_type": "code",
   "execution_count": 7,
   "id": "ecc57a02",
   "metadata": {},
   "outputs": [],
   "source": [
    "data_split = params[\"data_split\"]\n",
    "n_data = len(data)\n",
    "cut1 = int(n_data - data_split[0])\n",
    "model.train_loader = DataLoader(dataset=data[:cut1], batch_size=params[\"batch_size\"], shuffle=True)"
   ]
  },
  {
   "cell_type": "markdown",
   "id": "1e8e7293",
   "metadata": {},
   "source": [
    "# Generate samples"
   ]
  },
  {
   "cell_type": "code",
   "execution_count": 8,
   "id": "52bf8ee8",
   "metadata": {},
   "outputs": [
    {
     "name": "stdout",
     "output_type": "stream",
     "text": [
      "[[46 26  7 17]\n",
      " [ 1 25 27 44]\n",
      " [19 34 45 38]\n",
      " [49 25 38  3]\n",
      " [19 36 49 48]\n",
      " [13 40 42  5]\n",
      " [37 24 16 38]\n",
      " [35 24 33 34]\n",
      " [17  9 13  0]\n",
      " [28 18 22 45]]\n",
      "(10, 50, 4) (10, 4) torch.Size([1110181, 5])\n"
     ]
    }
   ],
   "source": [
    "n_samples = 10\n",
    "samples, probs = model.sample_n_bonus(n_samples)\n",
    "samples = samples[:,1:]\n",
    "probs = probs[:,:,:-1]\n",
    "data2 = data[:,1:] #cout out njets\n",
    "\n",
    "print(samples)\n",
    "print(np.shape(probs), np.shape(samples), np.shape(data))"
   ]
  },
  {
   "cell_type": "code",
   "execution_count": 9,
   "id": "17cb2a17",
   "metadata": {},
   "outputs": [
    {
     "name": "stdout",
     "output_type": "stream",
     "text": [
      "(22202, 4)\n",
      "(468, 4)\n",
      "(10, 4)\n",
      "(0, 4)\n",
      "[]\n",
      "(22202, 4)\n",
      "(409, 4)\n",
      "(3, 4)\n",
      "(0, 4)\n",
      "[]\n",
      "(22203, 4)\n",
      "(744, 4)\n",
      "(17, 4)\n",
      "(0, 4)\n",
      "[]\n",
      "(22203, 4)\n",
      "(441, 4)\n",
      "(4, 4)\n",
      "(0, 4)\n",
      "[]\n",
      "(22203, 4)\n",
      "(838, 4)\n",
      "(17, 4)\n",
      "(1, 4)\n",
      "[[19 36 49 48]]\n",
      "(22202, 4)\n",
      "(448, 4)\n",
      "(11, 4)\n",
      "(0, 4)\n",
      "[]\n",
      "(22203, 4)\n",
      "(548, 4)\n",
      "(8, 4)\n",
      "(0, 4)\n",
      "[]\n",
      "(22203, 4)\n",
      "(655, 4)\n",
      "(9, 4)\n",
      "(1, 4)\n",
      "[[35 24 33 34]]\n",
      "(22203, 4)\n",
      "(126, 4)\n",
      "(2, 4)\n",
      "(0, 4)\n",
      "[]\n",
      "(22202, 4)\n",
      "(326, 4)\n",
      "(8, 4)\n",
      "(1, 4)\n",
      "[[28 18 22 45]]\n"
     ]
    }
   ],
   "source": [
    "def getEventsWithSameConditioning(data, condition):\n",
    "    data_ret = data.copy()\n",
    "    #print(data[:100,:], condition)\n",
    "    for i in range(len(condition)):\n",
    "        mask = np.where(condition[i] == data_ret[:,i])\n",
    "        #print(mask, np.sum(mask))\n",
    "        data_ret = data_ret[mask]\n",
    "        print(np.shape(data_ret))\n",
    "    return data_ret\n",
    "for i in range(n_samples):\n",
    "    print(getEventsWithSameConditioning(data2.numpy(), samples[i]))"
   ]
  },
  {
   "cell_type": "markdown",
   "id": "120aba29",
   "metadata": {},
   "source": [
    "# Test plot"
   ]
  },
  {
   "cell_type": "code",
   "execution_count": 10,
   "id": "8a182b40",
   "metadata": {},
   "outputs": [
    {
     "data": {
      "image/png": "[encoded data removed]",
      "text/plain": [
       "<Figure size 640x480 with 1 Axes>"
      ]
     },
     "metadata": {},
     "output_type": "display_data"
    }
   ],
   "source": [
    "x=np.arange(n_bins+1)\n",
    "idim=3\n",
    "isample=0\n",
    "ymax = 0.\n",
    "plt.step(x, np.append(probs[isample,:,idim], [ymax]), where=\"post\", color=\"k\")\n",
    "plt.hist(data2[:,idim], alpha=.5, density=True, range=[0,n_bins], bins=n_bins, align=\"mid\", rwidth=1.)\n",
    "ymin, ymax = plt.ylim()\n",
    "plt.bar([samples[isample, idim]], [ymax], facecolor=\"r\", width=1., align=\"edge\")\n",
    "plt.xlim(0,n_bins)\n",
    "plt.show()"
   ]
  },
  {
   "cell_type": "markdown",
   "id": "a765a3d8",
   "metadata": {},
   "source": [
    "# Fancy plot"
   ]
  },
  {
   "cell_type": "code",
   "execution_count": 11,
   "id": "8f75d80d",
   "metadata": {},
   "outputs": [],
   "source": [
    "def probPlot(probs, samples, filenameOut=None, var=None, maxSamples=None):\n",
    "    nsamples = np.shape(samples)[0]\n",
    "    if(maxSamples!=None):\n",
    "       nsamples = np.min([nsamples, maxSamples])\n",
    "    ndim = np.shape(samples)[1]\n",
    "    f, axarr = plt.subplots(nsamples, ndim, figsize=(3*ndim,3*nsamples), sharex=True,\n",
    "                           gridspec_kw={\"hspace\": 0.})\n",
    "    plt.tight_layout()\n",
    "    \n",
    "    x=np.arange(np.shape(probs)[1]+1)\n",
    "    ymax=np.zeros(ndim)\n",
    "    for isample in range(nsamples):\n",
    "        print(f\"Working on sample {isample}/{nsamples}\")\n",
    "        for idim in range(ndim):\n",
    "            # need one more element in x and probs to make the plot nice\n",
    "            axarr[isample,idim].step(x, np.append(probs[isample,:,idim], ymax[idim]), where=\"post\", color=\"k\")\n",
    "            _, ymax0 = axarr[isample,idim].get_ylim()\n",
    "            ymax[idim] = np.max([ymax[idim], ymax0])\n",
    "            axarr[isample,idim].hist(data2[:,idim], density=True, alpha=.5, range=[0,np.shape(probs)[1]], rwidth=1., bins=np.shape(probs)[1], align=\"mid\")\n",
    "            axarr[isample,idim].set_xlim(0,np.shape(probs)[1])\n",
    "            \n",
    "            if((type(var) is np.ndarray) and isample==nsamples-1):\n",
    "                axarr[isample,idim].set_xlabel(r\"${%s}$ bin\" %var[idim])\n",
    "    for isample in range(nsamples):\n",
    "        for idim in range(ndim):\n",
    "            axarr[isample,idim].bar([samples[isample,idim]], [ymax[idim]], facecolor=\"r\", width=1., align=\"edge\")\n",
    "            axarr[isample,idim].set_ylim(0, ymax[idim])\n",
    "    if(filenameOut!=None):\n",
    "        f.savefig(filenameOut, format=\"pdf\")\n",
    "    #plt.close()"
   ]
  },
  {
   "cell_type": "code",
   "execution_count": 12,
   "id": "1cd6fb74",
   "metadata": {},
   "outputs": [
    {
     "name": "stdout",
     "output_type": "stream",
     "text": [
      "Working on sample 0/5\n"
     ]
    },
    {
     "ename": "KeyboardInterrupt",
     "evalue": "",
     "output_type": "error",
     "traceback": [
      "\u001b[0;31m---------------------------------------------------------------------------\u001b[0m",
      "\u001b[0;31mKeyboardInterrupt\u001b[0m                         Traceback (most recent call last)",
      "Cell \u001b[0;32mIn [12], line 1\u001b[0m\n\u001b[0;32m----> 1\u001b[0m \u001b[43mprobPlot\u001b[49m\u001b[43m(\u001b[49m\u001b[43mprobs\u001b[49m\u001b[43m,\u001b[49m\u001b[43m \u001b[49m\u001b[43msamples\u001b[49m\u001b[43m,\u001b[49m\u001b[43m \u001b[49m\u001b[43mvar\u001b[49m\u001b[38;5;241;43m=\u001b[39;49m\u001b[43mobs_names\u001b[49m\u001b[43m[\u001b[49m\u001b[43mparams\u001b[49m\u001b[43m[\u001b[49m\u001b[38;5;124;43m\"\u001b[39;49m\u001b[38;5;124;43mchannels\u001b[39;49m\u001b[38;5;124;43m\"\u001b[39;49m\u001b[43m]\u001b[49m\u001b[43m]\u001b[49m\u001b[43m,\u001b[49m\u001b[43m \u001b[49m\u001b[43mmaxSamples\u001b[49m\u001b[38;5;241;43m=\u001b[39;49m\u001b[38;5;241;43m5\u001b[39;49m\u001b[43m,\u001b[49m\u001b[43m \u001b[49m\n\u001b[1;32m      2\u001b[0m \u001b[43m         \u001b[49m\u001b[43mfilenameOut\u001b[49m\u001b[38;5;241;43m=\u001b[39;49m\u001b[38;5;124;43m\"\u001b[39;49m\u001b[38;5;124;43mScripts/visualizeAutoreg/visualizeAutoreg_13dim_discr1.pdf\u001b[39;49m\u001b[38;5;124;43m\"\u001b[39;49m\u001b[43m)\u001b[49m\n",
      "Cell \u001b[0;32mIn [11], line 19\u001b[0m, in \u001b[0;36mprobPlot\u001b[0;34m(probs, samples, filenameOut, var, maxSamples)\u001b[0m\n\u001b[1;32m     17\u001b[0m _, ymax0 \u001b[38;5;241m=\u001b[39m axarr[isample,idim]\u001b[38;5;241m.\u001b[39mget_ylim()\n\u001b[1;32m     18\u001b[0m ymax[idim] \u001b[38;5;241m=\u001b[39m np\u001b[38;5;241m.\u001b[39mmax([ymax[idim], ymax0])\n\u001b[0;32m---> 19\u001b[0m \u001b[43maxarr\u001b[49m\u001b[43m[\u001b[49m\u001b[43misample\u001b[49m\u001b[43m,\u001b[49m\u001b[43midim\u001b[49m\u001b[43m]\u001b[49m\u001b[38;5;241;43m.\u001b[39;49m\u001b[43mhist\u001b[49m\u001b[43m(\u001b[49m\u001b[43mdata2\u001b[49m\u001b[43m[\u001b[49m\u001b[43m:\u001b[49m\u001b[43m,\u001b[49m\u001b[43midim\u001b[49m\u001b[43m]\u001b[49m\u001b[43m,\u001b[49m\u001b[43m \u001b[49m\u001b[43mdensity\u001b[49m\u001b[38;5;241;43m=\u001b[39;49m\u001b[38;5;28;43;01mTrue\u001b[39;49;00m\u001b[43m,\u001b[49m\u001b[43m \u001b[49m\u001b[43malpha\u001b[49m\u001b[38;5;241;43m=\u001b[39;49m\u001b[38;5;241;43m.5\u001b[39;49m\u001b[43m,\u001b[49m\u001b[43m \u001b[49m\u001b[38;5;28;43mrange\u001b[39;49m\u001b[38;5;241;43m=\u001b[39;49m\u001b[43m[\u001b[49m\u001b[38;5;241;43m0\u001b[39;49m\u001b[43m,\u001b[49m\u001b[43mnp\u001b[49m\u001b[38;5;241;43m.\u001b[39;49m\u001b[43mshape\u001b[49m\u001b[43m(\u001b[49m\u001b[43mprobs\u001b[49m\u001b[43m)\u001b[49m\u001b[43m[\u001b[49m\u001b[38;5;241;43m1\u001b[39;49m\u001b[43m]\u001b[49m\u001b[43m]\u001b[49m\u001b[43m,\u001b[49m\u001b[43m \u001b[49m\u001b[43mrwidth\u001b[49m\u001b[38;5;241;43m=\u001b[39;49m\u001b[38;5;241;43m1.\u001b[39;49m\u001b[43m,\u001b[49m\u001b[43m \u001b[49m\u001b[43mbins\u001b[49m\u001b[38;5;241;43m=\u001b[39;49m\u001b[43mnp\u001b[49m\u001b[38;5;241;43m.\u001b[39;49m\u001b[43mshape\u001b[49m\u001b[43m(\u001b[49m\u001b[43mprobs\u001b[49m\u001b[43m)\u001b[49m\u001b[43m[\u001b[49m\u001b[38;5;241;43m1\u001b[39;49m\u001b[43m]\u001b[49m\u001b[43m,\u001b[49m\u001b[43m \u001b[49m\u001b[43malign\u001b[49m\u001b[38;5;241;43m=\u001b[39;49m\u001b[38;5;124;43m\"\u001b[39;49m\u001b[38;5;124;43mmid\u001b[39;49m\u001b[38;5;124;43m\"\u001b[39;49m\u001b[43m)\u001b[49m\n\u001b[1;32m     20\u001b[0m axarr[isample,idim]\u001b[38;5;241m.\u001b[39mset_xlim(\u001b[38;5;241m0\u001b[39m,np\u001b[38;5;241m.\u001b[39mshape(probs)[\u001b[38;5;241m1\u001b[39m])\n\u001b[1;32m     22\u001b[0m \u001b[38;5;28;01mif\u001b[39;00m((\u001b[38;5;28mtype\u001b[39m(var) \u001b[38;5;129;01mis\u001b[39;00m np\u001b[38;5;241m.\u001b[39mndarray) \u001b[38;5;129;01mand\u001b[39;00m isample\u001b[38;5;241m==\u001b[39mnsamples\u001b[38;5;241m-\u001b[39m\u001b[38;5;241m1\u001b[39m):\n",
      "File \u001b[0;32m/usr/local/lib/python3.10/dist-packages/matplotlib/__init__.py:1423\u001b[0m, in \u001b[0;36m_preprocess_data.<locals>.inner\u001b[0;34m(ax, data, *args, **kwargs)\u001b[0m\n\u001b[1;32m   1420\u001b[0m \u001b[38;5;129m@functools\u001b[39m\u001b[38;5;241m.\u001b[39mwraps(func)\n\u001b[1;32m   1421\u001b[0m \u001b[38;5;28;01mdef\u001b[39;00m \u001b[38;5;21minner\u001b[39m(ax, \u001b[38;5;241m*\u001b[39margs, data\u001b[38;5;241m=\u001b[39m\u001b[38;5;28;01mNone\u001b[39;00m, \u001b[38;5;241m*\u001b[39m\u001b[38;5;241m*\u001b[39mkwargs):\n\u001b[1;32m   1422\u001b[0m     \u001b[38;5;28;01mif\u001b[39;00m data \u001b[38;5;129;01mis\u001b[39;00m \u001b[38;5;28;01mNone\u001b[39;00m:\n\u001b[0;32m-> 1423\u001b[0m         \u001b[38;5;28;01mreturn\u001b[39;00m \u001b[43mfunc\u001b[49m\u001b[43m(\u001b[49m\u001b[43max\u001b[49m\u001b[43m,\u001b[49m\u001b[43m \u001b[49m\u001b[38;5;241;43m*\u001b[39;49m\u001b[38;5;28;43mmap\u001b[39;49m\u001b[43m(\u001b[49m\u001b[43msanitize_sequence\u001b[49m\u001b[43m,\u001b[49m\u001b[43m \u001b[49m\u001b[43margs\u001b[49m\u001b[43m)\u001b[49m\u001b[43m,\u001b[49m\u001b[43m \u001b[49m\u001b[38;5;241;43m*\u001b[39;49m\u001b[38;5;241;43m*\u001b[39;49m\u001b[43mkwargs\u001b[49m\u001b[43m)\u001b[49m\n\u001b[1;32m   1425\u001b[0m     bound \u001b[38;5;241m=\u001b[39m new_sig\u001b[38;5;241m.\u001b[39mbind(ax, \u001b[38;5;241m*\u001b[39margs, \u001b[38;5;241m*\u001b[39m\u001b[38;5;241m*\u001b[39mkwargs)\n\u001b[1;32m   1426\u001b[0m     auto_label \u001b[38;5;241m=\u001b[39m (bound\u001b[38;5;241m.\u001b[39marguments\u001b[38;5;241m.\u001b[39mget(label_namer)\n\u001b[1;32m   1427\u001b[0m                   \u001b[38;5;129;01mor\u001b[39;00m bound\u001b[38;5;241m.\u001b[39mkwargs\u001b[38;5;241m.\u001b[39mget(label_namer))\n",
      "File \u001b[0;32m/usr/local/lib/python3.10/dist-packages/matplotlib/axes/_axes.py:6620\u001b[0m, in \u001b[0;36mAxes.hist\u001b[0;34m(self, x, bins, range, density, weights, cumulative, bottom, histtype, align, orientation, rwidth, log, color, label, stacked, **kwargs)\u001b[0m\n\u001b[1;32m   6617\u001b[0m     stacked \u001b[38;5;241m=\u001b[39m \u001b[38;5;28;01mTrue\u001b[39;00m\n\u001b[1;32m   6619\u001b[0m \u001b[38;5;66;03m# Massage 'x' for processing.\u001b[39;00m\n\u001b[0;32m-> 6620\u001b[0m x \u001b[38;5;241m=\u001b[39m \u001b[43mcbook\u001b[49m\u001b[38;5;241;43m.\u001b[39;49m\u001b[43m_reshape_2D\u001b[49m\u001b[43m(\u001b[49m\u001b[43mx\u001b[49m\u001b[43m,\u001b[49m\u001b[43m \u001b[49m\u001b[38;5;124;43m'\u001b[39;49m\u001b[38;5;124;43mx\u001b[39;49m\u001b[38;5;124;43m'\u001b[39;49m\u001b[43m)\u001b[49m\n\u001b[1;32m   6621\u001b[0m nx \u001b[38;5;241m=\u001b[39m \u001b[38;5;28mlen\u001b[39m(x)  \u001b[38;5;66;03m# number of datasets\u001b[39;00m\n\u001b[1;32m   6623\u001b[0m \u001b[38;5;66;03m# Process unit information.  _process_unit_info sets the unit and\u001b[39;00m\n\u001b[1;32m   6624\u001b[0m \u001b[38;5;66;03m# converts the first dataset; then we convert each following dataset\u001b[39;00m\n\u001b[1;32m   6625\u001b[0m \u001b[38;5;66;03m# one at a time.\u001b[39;00m\n",
      "File \u001b[0;32m/usr/local/lib/python3.10/dist-packages/matplotlib/cbook/__init__.py:1433\u001b[0m, in \u001b[0;36m_reshape_2D\u001b[0;34m(X, name)\u001b[0m\n\u001b[1;32m   1431\u001b[0m     \u001b[38;5;28;01melse\u001b[39;00m:\n\u001b[1;32m   1432\u001b[0m         is_1d \u001b[38;5;241m=\u001b[39m \u001b[38;5;28;01mFalse\u001b[39;00m\n\u001b[0;32m-> 1433\u001b[0m xi \u001b[38;5;241m=\u001b[39m \u001b[43mnp\u001b[49m\u001b[38;5;241;43m.\u001b[39;49m\u001b[43masanyarray\u001b[49m\u001b[43m(\u001b[49m\u001b[43mxi\u001b[49m\u001b[43m)\u001b[49m\n\u001b[1;32m   1434\u001b[0m nd \u001b[38;5;241m=\u001b[39m np\u001b[38;5;241m.\u001b[39mndim(xi)\n\u001b[1;32m   1435\u001b[0m \u001b[38;5;28;01mif\u001b[39;00m nd \u001b[38;5;241m>\u001b[39m \u001b[38;5;241m1\u001b[39m:\n",
      "File \u001b[0;32m/usr/local/lib/python3.10/dist-packages/torch/_tensor.py:951\u001b[0m, in \u001b[0;36mTensor.__array__\u001b[0;34m(self, dtype)\u001b[0m\n\u001b[1;32m    948\u001b[0m \u001b[38;5;66;03m# Numpy array interface, to support `numpy.asarray(tensor) -> ndarray`\u001b[39;00m\n\u001b[1;32m    949\u001b[0m __array_priority__ \u001b[38;5;241m=\u001b[39m \u001b[38;5;241m1000\u001b[39m  \u001b[38;5;66;03m# prefer Tensor ops over numpy ones\u001b[39;00m\n\u001b[0;32m--> 951\u001b[0m \u001b[38;5;28;01mdef\u001b[39;00m \u001b[38;5;21m__array__\u001b[39m(\u001b[38;5;28mself\u001b[39m, dtype\u001b[38;5;241m=\u001b[39m\u001b[38;5;28;01mNone\u001b[39;00m):\n\u001b[1;32m    952\u001b[0m     \u001b[38;5;28;01mif\u001b[39;00m has_torch_function_unary(\u001b[38;5;28mself\u001b[39m):\n\u001b[1;32m    953\u001b[0m         \u001b[38;5;28;01mreturn\u001b[39;00m handle_torch_function(Tensor\u001b[38;5;241m.\u001b[39m__array__, (\u001b[38;5;28mself\u001b[39m,), \u001b[38;5;28mself\u001b[39m, dtype\u001b[38;5;241m=\u001b[39mdtype)\n",
      "\u001b[0;31mKeyboardInterrupt\u001b[0m: "
     ]
    },
    {
     "data": {
      "image/png": "[encoded data removed]",
      "text/plain": [
       "<Figure size 1200x1500 with 20 Axes>"
      ]
     },
     "metadata": {},
     "output_type": "display_data"
    }
   ],
   "source": [
    "probPlot(probs, samples, var=obs_names[params[\"channels\"]], maxSamples=5, \n",
    "         filenameOut=\"Scripts/visualizeAutoreg/visualizeAutoreg_13dim_discr1.pdf\")"
   ]
  },
  {
   "cell_type": "code",
   "execution_count": null,
   "id": "af450eb1",
   "metadata": {},
   "outputs": [],
   "source": []
  }
 ],
 "metadata": {
  "kernelspec": {
   "display_name": "Python 3 (ipykernel)",
   "language": "python",
   "name": "python3"
  },
  "language_info": {
   "codemirror_mode": {
    "name": "ipython",
    "version": 3
   },
   "file_extension": ".py",
   "mimetype": "text/x-python",
   "name": "python",
   "nbconvert_exporter": "python",
   "pygments_lexer": "ipython3",
   "version": "3.10.6"
  }
 },
 "nbformat": 4,
 "nbformat_minor": 5
}

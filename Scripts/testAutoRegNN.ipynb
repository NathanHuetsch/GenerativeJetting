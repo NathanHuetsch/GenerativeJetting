{
 "cells": [
  {
   "cell_type": "code",
   "execution_count": 1,
   "id": "78cafbca",
   "metadata": {},
   "outputs": [
    {
     "name": "stderr",
     "output_type": "stream",
     "text": [
      "/usr/local/lib/python3.10/dist-packages/tqdm/auto.py:22: TqdmWarning: IProgress not found. Please update jupyter and ipywidgets. See https://ipywidgets.readthedocs.io/en/stable/user_install.html\n",
      "  from .autonotebook import tqdm as notebook_tqdm\n"
     ]
    }
   ],
   "source": [
    "import numpy as np\n",
    "import matplotlib.pyplot as plt\n",
    "import torch\n",
    "import os, sys\n",
    "os.chdir(\"..\")\n",
    "from Source.Models.autoregNN import AutoRegNN\n",
    "from Source.Networks.energynet import EnergyNet"
   ]
  },
  {
   "cell_type": "code",
   "execution_count": 7,
   "id": "72a4477f",
   "metadata": {},
   "outputs": [
    {
     "data": {
      "text/plain": [
       "46"
      ]
     },
     "execution_count": 7,
     "metadata": {},
     "output_type": "execute_result"
    }
   ],
   "source": [
    "params = {\"enet_layers\":2, \"enet_dim\":5, \"enet_bias\":True}\n",
    "enet = EnergyNet(params)\n",
    "enet.model_parameters"
   ]
  },
  {
   "cell_type": "code",
   "execution_count": 11,
   "id": "e4d16f46",
   "metadata": {},
   "outputs": [
    {
     "name": "stdout",
     "output_type": "stream",
     "text": [
      "tensor([1.])\n",
      "tensor([0., 0., 0., 0., 0.])\n",
      "tensor([0., 0., 0., 0., 0.])\n",
      "tensor([0., 0., 0., 0., 0.])\n",
      "tensor([0., 0., 0., 0., 0.])\n"
     ]
    },
    {
     "data": {
      "text/plain": [
       "tensor([0.])"
      ]
     },
     "execution_count": 11,
     "metadata": {},
     "output_type": "execute_result"
    }
   ],
   "source": [
    "enet(torch.ones(1))"
   ]
  },
  {
   "cell_type": "code",
   "execution_count": 9,
   "id": "9b13b0cd",
   "metadata": {},
   "outputs": [
    {
     "name": "stdout",
     "output_type": "stream",
     "text": [
      "torch.Size([5, 1])\n",
      "torch.Size([5, 5])\n",
      "torch.Size([1, 5])\n",
      "torch.Size([5])\n",
      "torch.Size([5])\n",
      "torch.Size([1])\n"
     ]
    }
   ],
   "source": [
    "print(enet.layers[0].weight.size())\n",
    "print(enet.layers[2].weight.size())\n",
    "print(enet.layers[4].weight.size())\n",
    "print(enet.layers[0].bias.size())\n",
    "print(enet.layers[2].bias.size())\n",
    "print(enet.layers[4].bias.size())"
   ]
  },
  {
   "cell_type": "code",
   "execution_count": 10,
   "id": "f49a0567",
   "metadata": {},
   "outputs": [],
   "source": [
    "enet.setWeights(torch.zeros(enet.model_parameters))"
   ]
  },
  {
   "cell_type": "code",
   "execution_count": null,
   "id": "33201f3d",
   "metadata": {},
   "outputs": [],
   "source": []
  },
  {
   "cell_type": "code",
   "execution_count": null,
   "id": "4cc11e4a",
   "metadata": {},
   "outputs": [],
   "source": []
  }
 ],
 "metadata": {
  "kernelspec": {
   "display_name": "Python 3 (ipykernel)",
   "language": "python",
   "name": "python3"
  },
  "language_info": {
   "codemirror_mode": {
    "name": "ipython",
    "version": 3
   },
   "file_extension": ".py",
   "mimetype": "text/x-python",
   "name": "python",
   "nbconvert_exporter": "python",
   "pygments_lexer": "ipython3",
   "version": "3.10.6"
  }
 },
 "nbformat": 4,
 "nbformat_minor": 5
}
